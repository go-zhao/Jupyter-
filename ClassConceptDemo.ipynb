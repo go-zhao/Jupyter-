{
 "cells": [
  {
   "cell_type": "markdown",
   "metadata": {
    "lang": "fr"
   },
   "source": [
    "## 面向 过程 编程"
   ]
  },
  {
   "cell_type": "code",
   "execution_count": 1,
   "metadata": {
    "lang": "zh-cn"
   },
   "outputs": [],
   "source": [
    "# 定义若干个 dict，表示具体跑者\n",
    "Runner1 = {'name':'嘉宁','age':39,'PB':312}\n",
    "Runner2 = {'name':'立超','age':38,'PB':438}\n",
    "Runner3 = {'name':'乔楠','age':18,'PB':450}"
   ]
  },
  {
   "cell_type": "code",
   "execution_count": 2,
   "metadata": {},
   "outputs": [],
   "source": [
    "# 定义函数\n",
    "def print_PB(Runner):\n",
    "    print('%s: %s' % (Runner['name'],Runner['PB']))"
   ]
  },
  {
   "cell_type": "code",
   "execution_count": 3,
   "metadata": {},
   "outputs": [
    {
     "name": "stdout",
     "output_type": "stream",
     "text": [
      "嘉宁: 312\n",
      "立超: 438\n",
      "乔楠: 450\n"
     ]
    }
   ],
   "source": [
    "# 调用函数\n",
    "print_PB(Runner1)\n",
    "print_PB(Runner2)\n",
    "print_PB(Runner3)"
   ]
  },
  {
   "cell_type": "markdown",
   "metadata": {
    "lang": "zh-cn"
   },
   "source": [
    "## 面向对象编程"
   ]
  },
  {
   "cell_type": "code",
   "execution_count": 4,
   "metadata": {
    "lang": "zh-cn"
   },
   "outputs": [],
   "source": [
    "# 定义跑者类 Runner\n",
    "\n",
    "class Runner(object):\n",
    "    \n",
    "    def __init__(self,name,age,PB):  # 构造函数\n",
    "        self.name = name\n",
    "        self.age = age\n",
    "        self.PB = PB\n",
    "        \n",
    "    def print_PB(self):    # 定义 print_PB()方法：显示个人最好成绩\n",
    "        print('%s: %s' % (self.name, self.PB))\n",
    "        \n",
    "    def running(self):    # 定义 running()方法：执行跑步操作\n",
    "        print(self.name + \" is Running now !\")        "
   ]
  },
  {
   "cell_type": "code",
   "execution_count": 5,
   "metadata": {
    "lang": "zh-cn"
   },
   "outputs": [],
   "source": [
    "# 实例化 Runner，创建两个具体跑者\n",
    "\n",
    "JiaNing = Runner('嘉宁',39,312)\n",
    "QiaoLan = Runner('乔楠',18,450)"
   ]
  },
  {
   "cell_type": "code",
   "execution_count": 6,
   "metadata": {},
   "outputs": [
    {
     "name": "stdout",
     "output_type": "stream",
     "text": [
      "嘉宁: 312\n",
      "乔楠: 450\n",
      "嘉宁 is Running now !\n",
      "乔楠 is Running now !\n"
     ]
    }
   ],
   "source": [
    "# 调用对象的方法\n",
    "\n",
    "JiaNing.print_PB()\n",
    "QiaoLan.print_PB()\n",
    "JiaNing.running()\n",
    "QiaoLan.running()"
   ]
  },
  {
   "cell_type": "markdown",
   "metadata": {},
   "source": [
    "## 类的继承"
   ]
  },
  {
   "cell_type": "code",
   "execution_count": 7,
   "metadata": {},
   "outputs": [],
   "source": [
    "# 定义越野跑者类 TrailRunner，继承自父类 Runner\n",
    "\n",
    "class TrailRunner(Runner):\n",
    "    def climbing(self):     # 子类中创建 climbing()方法：执行爬山操作\n",
    "        print(self.name + \" is Climbing now !\")"
   ]
  },
  {
   "cell_type": "code",
   "execution_count": 8,
   "metadata": {},
   "outputs": [],
   "source": [
    "# 实例化 TrailRunner，创建两个具体越野跑者\n",
    "\n",
    "HiFrank = TrailRunner('立超',38,438)\n",
    "JJing = TrailRunner('菁菁',28,450)"
   ]
  },
  {
   "cell_type": "code",
   "execution_count": 9,
   "metadata": {},
   "outputs": [
    {
     "name": "stdout",
     "output_type": "stream",
     "text": [
      "菁菁 is Running now !\n",
      "菁菁 is Climbing now !\n",
      "立超 is Running now !\n",
      "立超 is Climbing now !\n"
     ]
    }
   ],
   "source": [
    "# 调用对象的方法\n",
    "\n",
    "JJing.running()     # 此方法继承自父类\n",
    "JJing.climbing()    # 此方法为本子类的方法\n",
    "HiFrank.running()\n",
    "HiFrank.climbing()"
   ]
  },
  {
   "cell_type": "markdown",
   "metadata": {},
   "source": [
    "## 多继承"
   ]
  },
  {
   "cell_type": "code",
   "execution_count": 10,
   "metadata": {},
   "outputs": [],
   "source": [
    "# 定义作者类 Writer \n",
    "\n",
    "class Writer(object):\n",
    "    \n",
    "    def __init__(self,name,bookname):  \n",
    "        self.name = name\n",
    "        self.bookname = bookname\n",
    "        \n",
    "    def writting(self):    # 定义 writting()方法：执行写作操作\n",
    "        print(self.name + \" is Writting \" + self.bookname + \"book now!\")"
   ]
  },
  {
   "cell_type": "code",
   "execution_count": 11,
   "metadata": {
    "lang": "zh-cn"
   },
   "outputs": [],
   "source": [
    "# 定义驿动写作者 RunningWriter 类，多继承自两个父类 Runner 和 Writer\n",
    "\n",
    "class RunningWriter(Runner, Writer):\n",
    "    \n",
    "    def __init__(self,name,age,PB,bookname):  # 定义构造方法\n",
    "        Runner.__init__(self,name,age,PB)     # 调用父类的构造方法\n",
    "        Writer.__init__(self,name,bookname)\n",
    "    \n",
    "    #定义一个驿动写作者特有的新 confusing()方法：纠结时间平衡    \n",
    "    def confusing(self):     \n",
    "        print(\"but How to Balance my Time ?!! \")\n",
    "        "
   ]
  },
  {
   "cell_type": "code",
   "execution_count": 12,
   "metadata": {},
   "outputs": [],
   "source": [
    "# 实例化一个具体的驿动写作者\n",
    "\n",
    "HiFrank = RunningWriter('立超', 38, 438, 'Jupyter')"
   ]
  },
  {
   "cell_type": "code",
   "execution_count": 13,
   "metadata": {
    "scrolled": true
   },
   "outputs": [
    {
     "name": "stdout",
     "output_type": "stream",
     "text": [
      "立超 is Running now !\n",
      "立超 is Writting Jupyterbook now!\n",
      "but How to Balance my Time ?!! \n"
     ]
    }
   ],
   "source": [
    "HiFrank.running()    # 此方法来自父类 Runner\n",
    "HiFrank.writting()   # 此方法来自父类 Writer\n",
    "HiFrank.confusing()  # 此方法来自子类 RunningWriter"
   ]
  },
  {
   "cell_type": "markdown",
   "metadata": {},
   "source": [
    "## 方法重写"
   ]
  },
  {
   "cell_type": "code",
   "execution_count": 14,
   "metadata": {},
   "outputs": [],
   "source": [
    "# 定义越野跑者类 TrailRunner，继承自父类 Runner\n",
    "\n",
    "class TrailRunner(Runner):\n",
    "    \n",
    "    def climbing(self):     \n",
    "        print(self.name + \" is Climbing now !\")\n",
    "    \n",
    "    # 重写 running() 方法：带着登山杖跑\n",
    "    def running(self):\n",
    "        print(self.name + \" is Running with Trekking Poles.\")  "
   ]
  },
  {
   "cell_type": "code",
   "execution_count": 15,
   "metadata": {},
   "outputs": [],
   "source": [
    "# 定义越野跑者类 Marathoner，继承自父类 Runner\n",
    "class Marathoner(Runner):\n",
    "    \n",
    "    # 重写 running() 方法：4分30秒配速匀速跑\n",
    "    def running(self):\n",
    "        print(self.name + \" is Steady Running with Pace of 4:30.\")  "
   ]
  },
  {
   "cell_type": "code",
   "execution_count": 16,
   "metadata": {},
   "outputs": [],
   "source": [
    "JiaNing = Marathoner('嘉宁',39,312)   # 实例化一个越野跑者\n",
    "HiFrank = TrailRunner('立超',38,438)    # 实例化一个马拉松跑者"
   ]
  },
  {
   "cell_type": "code",
   "execution_count": 17,
   "metadata": {},
   "outputs": [
    {
     "name": "stdout",
     "output_type": "stream",
     "text": [
      "嘉宁 is Steady Running with Pace of 4:30.\n",
      "立超 is Running with Trekking Poles.\n"
     ]
    }
   ],
   "source": [
    "JiaNing.running()    # 执行马拉松跑者的 running()方法\n",
    "HiFrank.running()    # 执行越野跑者的 running()方法"
   ]
  },
  {
   "cell_type": "markdown",
   "metadata": {},
   "source": [
    "## 多态"
   ]
  },
  {
   "cell_type": "code",
   "execution_count": 18,
   "metadata": {},
   "outputs": [],
   "source": [
    "# 定义一个函数，调用 Runner 的 running方法\n",
    "\n",
    "def ToRun(Runner):     # ToRun()的参数为跑者 Runner\n",
    "    Runner.running()"
   ]
  },
  {
   "cell_type": "code",
   "execution_count": 19,
   "metadata": {},
   "outputs": [
    {
     "name": "stdout",
     "output_type": "stream",
     "text": [
      "嘉宁 is Steady Running with Pace of 4:30.\n",
      "立超 is Running with Trekking Poles.\n"
     ]
    }
   ],
   "source": [
    "# 将不同子类作为 ToRun的参数\n",
    "\n",
    "ToRun(JiaNing)     # 将马拉松跑者传递给 ToRun\n",
    "\n",
    "ToRun(HiFrank)     # 将越野跑者传递给 ToRun"
   ]
  }
 ],
 "metadata": {
  "kernelspec": {
   "display_name": "Python 3",
   "language": "python",
   "name": "python3"
  },
  "language_info": {
   "codemirror_mode": {
    "name": "ipython",
    "version": 3
   },
   "file_extension": ".py",
   "mimetype": "text/x-python",
   "name": "python",
   "nbconvert_exporter": "python",
   "pygments_lexer": "ipython3",
   "version": "3.7.6"
  },
  "nbTranslate": {
   "displayLangs": [],
   "hotkey": "alt-t",
   "langInMainMenu": true,
   "sourceLang": "zh-cn",
   "targetLang": "en",
   "useGoogleTranslate": true
  },
  "toc": {
   "base_numbering": 1,
   "nav_menu": {},
   "number_sections": true,
   "sideBar": false,
   "skip_h1_title": false,
   "title_cell": "Table of Contents",
   "title_sidebar": "Contents",
   "toc_cell": false,
   "toc_position": {
    "height": "271px",
    "left": "648.406px",
    "top": "111px",
    "width": "187.594px"
   },
   "toc_section_display": true,
   "toc_window_display": true
  },
  "varInspector": {
   "cols": {
    "lenName": 16,
    "lenType": 16,
    "lenVar": 40
   },
   "kernels_config": {
    "python": {
     "delete_cmd_postfix": "",
     "delete_cmd_prefix": "del ",
     "library": "var_list.py",
     "varRefreshCmd": "print(var_dic_list())"
    },
    "r": {
     "delete_cmd_postfix": ") ",
     "delete_cmd_prefix": "rm(",
     "library": "var_list.r",
     "varRefreshCmd": "cat(var_dic_list()) "
    }
   },
   "types_to_exclude": [
    "module",
    "function",
    "builtin_function_or_method",
    "instance",
    "_Feature"
   ],
   "window_display": false
  }
 },
 "nbformat": 4,
 "nbformat_minor": 2
}
