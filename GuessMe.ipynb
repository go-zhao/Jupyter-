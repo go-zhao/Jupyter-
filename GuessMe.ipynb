{
 "cells": [
  {
   "cell_type": "code",
   "execution_count": 1,
   "metadata": {},
   "outputs": [
    {
     "name": "stdout",
     "output_type": "stream",
     "text": [
      "Guess:50\n",
      "Too Small.\n",
      "Guess:75\n",
      "Too Big.\n",
      "Guess:63\n",
      "Too Small.\n",
      "Guess:70\n",
      "Too Small.\n",
      "Guess:73\n",
      "Yes!\n",
      "You Guessed 5 Times\n"
     ]
    }
   ],
   "source": [
    "import random\n",
    "\n",
    "answer = random.randint(1,100)\n",
    "counter = 0\n",
    "\n",
    "while True:\n",
    "    counter += 1\n",
    "    n = int(input('Guess:'))\n",
    "    if n > answer:\n",
    "        print('Too Big.')\n",
    "    elif n < answer:\n",
    "        print('Too Small.')\n",
    "    else:\n",
    "        print('Yes!')\n",
    "        break\n",
    "        \n",
    "print('You Guessed %d Times'% counter)\n",
    "\n",
    "if counter > 7:\n",
    "    print('Eeee! So many times!')"
   ]
  },
  {
   "cell_type": "code",
   "execution_count": null,
   "metadata": {},
   "outputs": [],
   "source": []
  }
 ],
 "metadata": {
  "kernelspec": {
   "display_name": "Python 3",
   "language": "python",
   "name": "python3"
  },
  "language_info": {
   "codemirror_mode": {
    "name": "ipython",
    "version": 3
   },
   "file_extension": ".py",
   "mimetype": "text/x-python",
   "name": "python",
   "nbconvert_exporter": "python",
   "pygments_lexer": "ipython3",
   "version": "3.7.6"
  }
 },
 "nbformat": 4,
 "nbformat_minor": 2
}
