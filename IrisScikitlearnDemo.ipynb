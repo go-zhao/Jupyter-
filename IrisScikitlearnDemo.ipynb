{
 "cells": [
  {
   "cell_type": "markdown",
   "metadata": {},
   "source": [
    "## 1. 认识鸢尾花数据集"
   ]
  },
  {
   "cell_type": "code",
   "execution_count": 1,
   "metadata": {},
   "outputs": [],
   "source": [
    "from matplotlib import pyplot"
   ]
  },
  {
   "cell_type": "code",
   "execution_count": 2,
   "metadata": {},
   "outputs": [],
   "source": [
    "from sklearn.datasets import load_iris\n",
    "iris = load_iris()"
   ]
  },
  {
   "cell_type": "code",
   "execution_count": 3,
   "metadata": {
    "scrolled": true
   },
   "outputs": [
    {
     "data": {
      "text/plain": [
       "array([[5.1, 3.5, 1.4, 0.2],\n",
       "       [4.9, 3. , 1.4, 0.2],\n",
       "       [4.7, 3.2, 1.3, 0.2],\n",
       "       [4.6, 3.1, 1.5, 0.2],\n",
       "       [5. , 3.6, 1.4, 0.2],\n",
       "       [5.4, 3.9, 1.7, 0.4],\n",
       "       [4.6, 3.4, 1.4, 0.3],\n",
       "       [5. , 3.4, 1.5, 0.2],\n",
       "       [4.4, 2.9, 1.4, 0.2],\n",
       "       [4.9, 3.1, 1.5, 0.1],\n",
       "       [5.4, 3.7, 1.5, 0.2],\n",
       "       [4.8, 3.4, 1.6, 0.2],\n",
       "       [4.8, 3. , 1.4, 0.1],\n",
       "       [4.3, 3. , 1.1, 0.1],\n",
       "       [5.8, 4. , 1.2, 0.2],\n",
       "       [5.7, 4.4, 1.5, 0.4],\n",
       "       [5.4, 3.9, 1.3, 0.4],\n",
       "       [5.1, 3.5, 1.4, 0.3],\n",
       "       [5.7, 3.8, 1.7, 0.3],\n",
       "       [5.1, 3.8, 1.5, 0.3],\n",
       "       [5.4, 3.4, 1.7, 0.2],\n",
       "       [5.1, 3.7, 1.5, 0.4],\n",
       "       [4.6, 3.6, 1. , 0.2],\n",
       "       [5.1, 3.3, 1.7, 0.5],\n",
       "       [4.8, 3.4, 1.9, 0.2],\n",
       "       [5. , 3. , 1.6, 0.2],\n",
       "       [5. , 3.4, 1.6, 0.4],\n",
       "       [5.2, 3.5, 1.5, 0.2],\n",
       "       [5.2, 3.4, 1.4, 0.2],\n",
       "       [4.7, 3.2, 1.6, 0.2],\n",
       "       [4.8, 3.1, 1.6, 0.2],\n",
       "       [5.4, 3.4, 1.5, 0.4],\n",
       "       [5.2, 4.1, 1.5, 0.1],\n",
       "       [5.5, 4.2, 1.4, 0.2],\n",
       "       [4.9, 3.1, 1.5, 0.2],\n",
       "       [5. , 3.2, 1.2, 0.2],\n",
       "       [5.5, 3.5, 1.3, 0.2],\n",
       "       [4.9, 3.6, 1.4, 0.1],\n",
       "       [4.4, 3. , 1.3, 0.2],\n",
       "       [5.1, 3.4, 1.5, 0.2],\n",
       "       [5. , 3.5, 1.3, 0.3],\n",
       "       [4.5, 2.3, 1.3, 0.3],\n",
       "       [4.4, 3.2, 1.3, 0.2],\n",
       "       [5. , 3.5, 1.6, 0.6],\n",
       "       [5.1, 3.8, 1.9, 0.4],\n",
       "       [4.8, 3. , 1.4, 0.3],\n",
       "       [5.1, 3.8, 1.6, 0.2],\n",
       "       [4.6, 3.2, 1.4, 0.2],\n",
       "       [5.3, 3.7, 1.5, 0.2],\n",
       "       [5. , 3.3, 1.4, 0.2],\n",
       "       [7. , 3.2, 4.7, 1.4],\n",
       "       [6.4, 3.2, 4.5, 1.5],\n",
       "       [6.9, 3.1, 4.9, 1.5],\n",
       "       [5.5, 2.3, 4. , 1.3],\n",
       "       [6.5, 2.8, 4.6, 1.5],\n",
       "       [5.7, 2.8, 4.5, 1.3],\n",
       "       [6.3, 3.3, 4.7, 1.6],\n",
       "       [4.9, 2.4, 3.3, 1. ],\n",
       "       [6.6, 2.9, 4.6, 1.3],\n",
       "       [5.2, 2.7, 3.9, 1.4],\n",
       "       [5. , 2. , 3.5, 1. ],\n",
       "       [5.9, 3. , 4.2, 1.5],\n",
       "       [6. , 2.2, 4. , 1. ],\n",
       "       [6.1, 2.9, 4.7, 1.4],\n",
       "       [5.6, 2.9, 3.6, 1.3],\n",
       "       [6.7, 3.1, 4.4, 1.4],\n",
       "       [5.6, 3. , 4.5, 1.5],\n",
       "       [5.8, 2.7, 4.1, 1. ],\n",
       "       [6.2, 2.2, 4.5, 1.5],\n",
       "       [5.6, 2.5, 3.9, 1.1],\n",
       "       [5.9, 3.2, 4.8, 1.8],\n",
       "       [6.1, 2.8, 4. , 1.3],\n",
       "       [6.3, 2.5, 4.9, 1.5],\n",
       "       [6.1, 2.8, 4.7, 1.2],\n",
       "       [6.4, 2.9, 4.3, 1.3],\n",
       "       [6.6, 3. , 4.4, 1.4],\n",
       "       [6.8, 2.8, 4.8, 1.4],\n",
       "       [6.7, 3. , 5. , 1.7],\n",
       "       [6. , 2.9, 4.5, 1.5],\n",
       "       [5.7, 2.6, 3.5, 1. ],\n",
       "       [5.5, 2.4, 3.8, 1.1],\n",
       "       [5.5, 2.4, 3.7, 1. ],\n",
       "       [5.8, 2.7, 3.9, 1.2],\n",
       "       [6. , 2.7, 5.1, 1.6],\n",
       "       [5.4, 3. , 4.5, 1.5],\n",
       "       [6. , 3.4, 4.5, 1.6],\n",
       "       [6.7, 3.1, 4.7, 1.5],\n",
       "       [6.3, 2.3, 4.4, 1.3],\n",
       "       [5.6, 3. , 4.1, 1.3],\n",
       "       [5.5, 2.5, 4. , 1.3],\n",
       "       [5.5, 2.6, 4.4, 1.2],\n",
       "       [6.1, 3. , 4.6, 1.4],\n",
       "       [5.8, 2.6, 4. , 1.2],\n",
       "       [5. , 2.3, 3.3, 1. ],\n",
       "       [5.6, 2.7, 4.2, 1.3],\n",
       "       [5.7, 3. , 4.2, 1.2],\n",
       "       [5.7, 2.9, 4.2, 1.3],\n",
       "       [6.2, 2.9, 4.3, 1.3],\n",
       "       [5.1, 2.5, 3. , 1.1],\n",
       "       [5.7, 2.8, 4.1, 1.3],\n",
       "       [6.3, 3.3, 6. , 2.5],\n",
       "       [5.8, 2.7, 5.1, 1.9],\n",
       "       [7.1, 3. , 5.9, 2.1],\n",
       "       [6.3, 2.9, 5.6, 1.8],\n",
       "       [6.5, 3. , 5.8, 2.2],\n",
       "       [7.6, 3. , 6.6, 2.1],\n",
       "       [4.9, 2.5, 4.5, 1.7],\n",
       "       [7.3, 2.9, 6.3, 1.8],\n",
       "       [6.7, 2.5, 5.8, 1.8],\n",
       "       [7.2, 3.6, 6.1, 2.5],\n",
       "       [6.5, 3.2, 5.1, 2. ],\n",
       "       [6.4, 2.7, 5.3, 1.9],\n",
       "       [6.8, 3. , 5.5, 2.1],\n",
       "       [5.7, 2.5, 5. , 2. ],\n",
       "       [5.8, 2.8, 5.1, 2.4],\n",
       "       [6.4, 3.2, 5.3, 2.3],\n",
       "       [6.5, 3. , 5.5, 1.8],\n",
       "       [7.7, 3.8, 6.7, 2.2],\n",
       "       [7.7, 2.6, 6.9, 2.3],\n",
       "       [6. , 2.2, 5. , 1.5],\n",
       "       [6.9, 3.2, 5.7, 2.3],\n",
       "       [5.6, 2.8, 4.9, 2. ],\n",
       "       [7.7, 2.8, 6.7, 2. ],\n",
       "       [6.3, 2.7, 4.9, 1.8],\n",
       "       [6.7, 3.3, 5.7, 2.1],\n",
       "       [7.2, 3.2, 6. , 1.8],\n",
       "       [6.2, 2.8, 4.8, 1.8],\n",
       "       [6.1, 3. , 4.9, 1.8],\n",
       "       [6.4, 2.8, 5.6, 2.1],\n",
       "       [7.2, 3. , 5.8, 1.6],\n",
       "       [7.4, 2.8, 6.1, 1.9],\n",
       "       [7.9, 3.8, 6.4, 2. ],\n",
       "       [6.4, 2.8, 5.6, 2.2],\n",
       "       [6.3, 2.8, 5.1, 1.5],\n",
       "       [6.1, 2.6, 5.6, 1.4],\n",
       "       [7.7, 3. , 6.1, 2.3],\n",
       "       [6.3, 3.4, 5.6, 2.4],\n",
       "       [6.4, 3.1, 5.5, 1.8],\n",
       "       [6. , 3. , 4.8, 1.8],\n",
       "       [6.9, 3.1, 5.4, 2.1],\n",
       "       [6.7, 3.1, 5.6, 2.4],\n",
       "       [6.9, 3.1, 5.1, 2.3],\n",
       "       [5.8, 2.7, 5.1, 1.9],\n",
       "       [6.8, 3.2, 5.9, 2.3],\n",
       "       [6.7, 3.3, 5.7, 2.5],\n",
       "       [6.7, 3. , 5.2, 2.3],\n",
       "       [6.3, 2.5, 5. , 1.9],\n",
       "       [6.5, 3. , 5.2, 2. ],\n",
       "       [6.2, 3.4, 5.4, 2.3],\n",
       "       [5.9, 3. , 5.1, 1.8]])"
      ]
     },
     "execution_count": 3,
     "metadata": {},
     "output_type": "execute_result"
    }
   ],
   "source": [
    "iris.data"
   ]
  },
  {
   "cell_type": "code",
   "execution_count": 4,
   "metadata": {},
   "outputs": [
    {
     "data": {
      "text/plain": [
       "array([0, 0, 0, 0, 0, 0, 0, 0, 0, 0, 0, 0, 0, 0, 0, 0, 0, 0, 0, 0, 0, 0,\n",
       "       0, 0, 0, 0, 0, 0, 0, 0, 0, 0, 0, 0, 0, 0, 0, 0, 0, 0, 0, 0, 0, 0,\n",
       "       0, 0, 0, 0, 0, 0, 1, 1, 1, 1, 1, 1, 1, 1, 1, 1, 1, 1, 1, 1, 1, 1,\n",
       "       1, 1, 1, 1, 1, 1, 1, 1, 1, 1, 1, 1, 1, 1, 1, 1, 1, 1, 1, 1, 1, 1,\n",
       "       1, 1, 1, 1, 1, 1, 1, 1, 1, 1, 1, 1, 2, 2, 2, 2, 2, 2, 2, 2, 2, 2,\n",
       "       2, 2, 2, 2, 2, 2, 2, 2, 2, 2, 2, 2, 2, 2, 2, 2, 2, 2, 2, 2, 2, 2,\n",
       "       2, 2, 2, 2, 2, 2, 2, 2, 2, 2, 2, 2, 2, 2, 2, 2, 2, 2])"
      ]
     },
     "execution_count": 4,
     "metadata": {},
     "output_type": "execute_result"
    }
   ],
   "source": [
    "iris.target"
   ]
  },
  {
   "cell_type": "code",
   "execution_count": 5,
   "metadata": {},
   "outputs": [
    {
     "data": {
      "text/plain": [
       "array(['setosa', 'versicolor', 'virginica'], dtype='<U10')"
      ]
     },
     "execution_count": 5,
     "metadata": {},
     "output_type": "execute_result"
    }
   ],
   "source": [
    "iris.target_names"
   ]
  },
  {
   "cell_type": "code",
   "execution_count": 6,
   "metadata": {},
   "outputs": [
    {
     "data": {
      "text/plain": [
       "<matplotlib.legend.Legend at 0x1f66a616d48>"
      ]
     },
     "execution_count": 6,
     "metadata": {},
     "output_type": "execute_result"
    },
    {
     "data": {
      "image/png": "[encoded data removed]",
      "text/plain": [
       "<Figure size 432x288 with 1 Axes>"
      ]
     },
     "metadata": {
      "needs_background": "light"
     },
     "output_type": "display_data"
    }
   ],
   "source": [
    "# 读取前 50 行，即 setosa 品种的第 0 列及第 1 列，即花萼长度和宽度数据\n",
    "setosa_sepal_len = iris.data[:50, 0]\n",
    "setosa_sepal_width = iris.data[:50, 1]\n",
    "\n",
    "# 得到第 51 行到 100 行，即 versicolor 品种的花萼长度和宽度数据\n",
    "versi_sepal_len = iris.data[50:100, 0]\n",
    "versi_sepal_width = iris.data[50:100, 1]\n",
    "\n",
    "# 得到后 50 行，即 virginica 品种的花萼长度和宽度数据\n",
    "virgi_sepal_len = iris.data[100:, 0]\n",
    "virgi_sepal_width = iris.data[100:, 1]\n",
    "\n",
    "# 以花萼长度及宽度为坐标，用不同符号和颜色画出散点图\n",
    "pyplot.scatter(setosa_sepal_len, setosa_sepal_width, \n",
    "               marker = '*', c = 'b', label = 'Setosa')\n",
    "pyplot.scatter(versi_sepal_len, versi_sepal_width, \n",
    "               marker = '+', c = 'r', label = 'Versicolour')\n",
    "pyplot.scatter(virgi_sepal_len, virgi_sepal_width, \n",
    "               marker = 'o', c = 'g', label = 'Virginica')\n",
    "pyplot.xlabel(\"Sepal Length cm\")\n",
    "pyplot.ylabel(\"Sepal Width cm\")\n",
    "pyplot.title(\"Iris Sepal Length and Width Scatter\")\n",
    "pyplot.legend(loc = \"upper right\")"
   ]
  },
  {
   "cell_type": "markdown",
   "metadata": {},
   "source": [
    "## 2. K-Means 聚类算法演示"
   ]
  },
  {
   "cell_type": "code",
   "execution_count": 7,
   "metadata": {
    "scrolled": true
   },
   "outputs": [
    {
     "data": {
      "image/png": "[encoded data removed]",
      "text/plain": [
       "<Figure size 432x288 with 1 Axes>"
      ]
     },
     "metadata": {
      "needs_background": "light"
     },
     "output_type": "display_data"
    }
   ],
   "source": [
    "from sklearn.cluster import KMeans\n",
    "\n",
    "# 取特征值的两个维度\n",
    "X = iris.data[:, :2] \n",
    "\n",
    "estimator = KMeans(n_clusters=3) # 构造聚类器\n",
    "estimator.fit(X) # 进行聚类\n",
    "label_pred = estimator.labels_ # 获取聚类标签\n",
    "\n",
    "# 聚类结果：根据聚类结果标签将数据分别放到 X0,X1,X2中\n",
    "x0 = X[label_pred == 0]\n",
    "x1 = X[label_pred == 1]\n",
    "x2 = X[label_pred == 2]\n",
    "\n",
    "# 绘制结果\n",
    "pyplot.scatter(x0[:, 0], x0[:, 1], marker='*', c='b', label='label0')\n",
    "pyplot.scatter(x1[:, 0], x1[:, 1], marker='+', c='r', label='label1')\n",
    "pyplot.scatter(x2[:, 0], x2[:, 1], marker='o', c='g', label='label2')\n",
    "pyplot.xlabel('Sepal Length')\n",
    "pyplot.ylabel('Sepal Width')\n",
    "pyplot.legend(loc = \"upper right\")\n",
    "pyplot.show() "
   ]
  },
  {
   "cell_type": "markdown",
   "metadata": {},
   "source": [
    "## 3. KNN 分类算法演示"
   ]
  },
  {
   "cell_type": "code",
   "execution_count": 8,
   "metadata": {
    "scrolled": true,
    "slideshow": {
     "slide_type": "subslide"
    }
   },
   "outputs": [
    {
     "name": "stdout",
     "output_type": "stream",
     "text": [
      "Test 1: Predict: Versicolour, Real: Versicolour\n",
      "Test 2: Predict: Setosa, Real: Setosa\n",
      "Test 3: Predict: Versicolour, Real: Versicolour\n",
      "Test 4: Predict: Setosa, Real: Setosa\n",
      "Test 5: Predict: Versicolour, Real: Versicolour\n",
      "Test 6: Predict: Virginica, Real: Versicolour\n",
      "Test 7: Predict: Virginica, Real: Virginica\n",
      "Test 8: Predict: Virginica, Real: Virginica\n",
      "Test 9: Predict: Versicolour, Real: Versicolour\n",
      "Test 10: Predict: Versicolour, Real: Versicolour\n",
      "Test 11: Predict: Virginica, Real: Virginica\n",
      "Test 12: Predict: Virginica, Real: Virginica\n",
      "Test 13: Predict: Versicolour, Real: Versicolour\n",
      "Test 14: Predict: Versicolour, Real: Versicolour\n",
      "Test 15: Predict: Virginica, Real: Virginica\n",
      "Test 16: Predict: Setosa, Real: Setosa\n",
      "Test 17: Predict: Versicolour, Real: Versicolour\n",
      "Test 18: Predict: Versicolour, Real: Versicolour\n",
      "Test 19: Predict: Versicolour, Real: Versicolour\n",
      "Test 20: Predict: Setosa, Real: Setosa\n",
      "Test 21: Predict: Virginica, Real: Virginica\n",
      "Test 22: Predict: Setosa, Real: Setosa\n",
      "Test 23: Predict: Versicolour, Real: Versicolour\n",
      "Test 24: Predict: Versicolour, Real: Versicolour\n",
      "Test 25: Predict: Setosa, Real: Setosa\n",
      "Test 26: Predict: Setosa, Real: Setosa\n",
      "Test 27: Predict: Setosa, Real: Setosa\n",
      "Test 28: Predict: Virginica, Real: Virginica\n",
      "Test 29: Predict: Versicolour, Real: Versicolour\n",
      "Test 30: Predict: Versicolour, Real: Versicolour\n",
      "Test 31: Predict: Virginica, Real: Virginica\n",
      "Test 32: Predict: Setosa, Real: Setosa\n",
      "Test 33: Predict: Virginica, Real: Virginica\n",
      "Test 34: Predict: Setosa, Real: Setosa\n",
      "Test 35: Predict: Virginica, Real: Virginica\n",
      "Test 36: Predict: Setosa, Real: Setosa\n",
      "Test 37: Predict: Setosa, Real: Setosa\n",
      "Test 38: Predict: Virginica, Real: Virginica\n",
      "Test 39: Predict: Setosa, Real: Setosa\n",
      "Test 40: Predict: Versicolour, Real: Versicolour\n",
      "Test 41: Predict: Setosa, Real: Setosa\n",
      "Test 42: Predict: Virginica, Real: Virginica\n",
      "Test 43: Predict: Setosa, Real: Setosa\n",
      "Test 44: Predict: Versicolour, Real: Virginica\n",
      "Test 45: Predict: Setosa, Real: Setosa\n",
      "Precision: 95.56%\n"
     ]
    }
   ],
   "source": [
    "from sklearn.model_selection import train_test_split \n",
    "from sklearn.neighbors import KNeighborsClassifier \n",
    "import joblib \n",
    "\n",
    "def IrisTrain():\n",
    "    #分割训练集和测试集\n",
    "    X_train,X_test,y_train,y_test = \\\n",
    "       train_test_split(iris.data,iris.target,test_size=0.3)  \n",
    "    knn = KNeighborsClassifier(n_neighbors=2)    # 选择 K近邻算法\n",
    "    knn.fit(X_train,y_train)    # 训练\n",
    "    iris_predict = knn.predict(X_test)     # 进行预测\n",
    "    return iris_predict,X_test,y_test,knn\n",
    "\n",
    "if __name__ == '__main__':\n",
    "    iris_predict,iris_Xtest,iris_ytest,knn= IrisTrain()\n",
    "    lables = ['Setosa','Versicolour','Virginica']\n",
    "    for i in range(len(iris_predict)):\n",
    "        print(\"Test %s: Predict: %s, Real: %s\" % ((i + 1), \n",
    "                lables[iris_ytest[i]], lables[iris_predict[i]]))\n",
    "    print(\"Precision: {:.2%}\".format(knn.score(iris_Xtest,iris_ytest)))\n",
    "    # joblib.dump(knn, r\"knn_mkdel.pkl\") #保存模型\n",
    "   \n"
   ]
  }
 ],
 "metadata": {
  "kernelspec": {
   "display_name": "Python 3",
   "language": "python",
   "name": "python3"
  },
  "language_info": {
   "codemirror_mode": {
    "name": "ipython",
    "version": 3
   },
   "file_extension": ".py",
   "mimetype": "text/x-python",
   "name": "python",
   "nbconvert_exporter": "python",
   "pygments_lexer": "ipython3",
   "version": "3.7.6"
  }
 },
 "nbformat": 4,
 "nbformat_minor": 2
}
