{
 "cells": [
  {
   "cell_type": "markdown",
   "metadata": {},
   "source": [
    "# 标题示例"
   ]
  },
  {
   "cell_type": "raw",
   "metadata": {},
   "source": [
    "# 这是一级标题\n",
    "## 这是二级标题\n",
    "### 这是三级标题\n",
    "#### 以此类推，最多六级"
   ]
  },
  {
   "cell_type": "markdown",
   "metadata": {},
   "source": [
    "# 这是一级标题\n",
    "## 这是二级标题\n",
    "### 这是三级标题\n",
    "#### 以此类推，最多六级"
   ]
  },
  {
   "cell_type": "markdown",
   "metadata": {},
   "source": [
    "# 字体示例"
   ]
  },
  {
   "cell_type": "raw",
   "metadata": {},
   "source": [
    "**这是加粗的文字**  \n",
    "*这是倾斜的文字*  \n",
    "***这是倾斜加粗的文字***  \n",
    "~~这是加删除线的文字~~  "
   ]
  },
  {
   "cell_type": "markdown",
   "metadata": {},
   "source": [
    "**这是加粗的文字**  \n",
    "*这是倾斜的文字*  \n",
    "***这是倾斜加粗的文字***  \n",
    "~~这是加删除线的文字~~  "
   ]
  },
  {
   "cell_type": "markdown",
   "metadata": {},
   "source": [
    "# 引用示例"
   ]
  },
  {
   "cell_type": "raw",
   "metadata": {},
   "source": [
    "这是正文，正文下方是引用内容：\n",
    ">这是引用内容。实现类似于回复邮件时\n",
    ">引用原邮件的效果。"
   ]
  },
  {
   "cell_type": "markdown",
   "metadata": {},
   "source": [
    "这是正文，正文下方是引用内容：\n",
    ">这是引用内容。实现类似于回复邮件时  \n",
    ">引用原邮件的效果。"
   ]
  },
  {
   "cell_type": "markdown",
   "metadata": {},
   "source": [
    "# 分割线示例"
   ]
  },
  {
   "cell_type": "raw",
   "metadata": {},
   "source": [
    "分割线举例：\n",
    "***\n",
    "或者\n",
    "---"
   ]
  },
  {
   "cell_type": "markdown",
   "metadata": {},
   "source": [
    "分割线举例：\n",
    "\n",
    "***\n",
    "\n",
    "或者  \n",
    "\n",
    "---"
   ]
  },
  {
   "cell_type": "markdown",
   "metadata": {},
   "source": [
    "# 图片示例"
   ]
  },
  {
   "cell_type": "raw",
   "metadata": {},
   "source": [
    "![Jupyter Logo](https://jupyter.org/assets/main-logo.svg \"这是Jupyter官网的Logo图片\")"
   ]
  },
  {
   "cell_type": "markdown",
   "metadata": {},
   "source": [
    "![Jupyter Logo](https://jupyter.org/assets/main-logo.svg \"这是Jupyter官网的Logo图片\")"
   ]
  },
  {
   "cell_type": "raw",
   "metadata": {},
   "source": [
    "![HiFrankisWriting.jpg](attachment:HiFrankisWriting.jpg)"
   ]
  },
  {
   "attachments": {
    "HiFrankisWriting.jpg": {
     "image/jpeg": "[encoded data removed]"
    }
   },
   "cell_type": "markdown",
   "metadata": {},
   "source": [
    "![HiFrankisWriting.jpg](attachment:HiFrankisWriting.jpg)"
   ]
  },
  {
   "cell_type": "markdown",
   "metadata": {},
   "source": [
    "# 链接示例"
   ]
  },
  {
   "cell_type": "raw",
   "metadata": {},
   "source": [
    "链接Demo1：[HiFrank 的 Github](https://github.com/HiwebFrank \"the Github of HiwebFrank\")\n",
    "\n",
    "链接Demo2：<https://github.com/HiwebFrank>  \n",
    "\n",
    "链接Demo3：[HiFrank 的 Email](mailto:Hiweb@Outlook.com \"HiwebFrank's Email Address\")\n",
    "\n",
    "链接Demo4：<Hiweb@Outlook.com>\n"
   ]
  },
  {
   "cell_type": "markdown",
   "metadata": {},
   "source": [
    "链接Demo1：[HiFrank 的 Github](https://github.com/HiwebFrank \"the Github of HiwebFrank\")\n",
    "\n",
    "链接Demo2：<https://github.com/HiwebFrank>  \n",
    "\n",
    "链接Demo3：[HiFrank 的 Email](mailto:Hiweb@Outlook.com \"HiwebFrank's Email Address\")\n",
    "\n",
    "链接Demo4：<Hiweb@Outlook.com>\n"
   ]
  },
  {
   "cell_type": "markdown",
   "metadata": {},
   "source": [
    "# 列表示例"
   ]
  },
  {
   "cell_type": "raw",
   "metadata": {},
   "source": [
    "- 这个问题\n",
    "- 那个问题\n",
    "   - 这个方面\n",
    "   - 那个方面\n",
    "- 还有问题\n",
    "\n",
    "---\n",
    "\n",
    "1.  问题一\n",
    "   - 一方面\n",
    "   - 另一方面\n",
    "2.  问题二\n",
    "3.  问题三\n"
   ]
  },
  {
   "cell_type": "markdown",
   "metadata": {},
   "source": [
    "- 这个问题\n",
    "- 那个问题\n",
    "   - 这个方面\n",
    "   - 那个方面\n",
    "- 还有问题\n",
    "\n",
    "---\n",
    "\n",
    "1.  问题一\n",
    "   - 一方面\n",
    "   - 另一方面\n",
    "2.  问题二\n",
    "3.  问题三\n"
   ]
  },
  {
   "cell_type": "markdown",
   "metadata": {},
   "source": [
    "# 表格示例"
   ]
  },
  {
   "cell_type": "raw",
   "metadata": {},
   "source": [
    "姓名|地址|电话\n",
    ":-|:-|-\n",
    "张珊|上海漕河泾|12388\n",
    "李诗诗|西安市高新二路|5678\n",
    "王武|北京市朝阳区|7891011"
   ]
  },
  {
   "cell_type": "markdown",
   "metadata": {},
   "source": [
    "姓名|地址|电话\n",
    ":-|:-|-\n",
    "张珊|上海漕河泾|12388\n",
    "李诗诗|西安市高新二路|5678\n",
    "王武|北京市朝阳区|7891011"
   ]
  },
  {
   "cell_type": "markdown",
   "metadata": {},
   "source": [
    "# 代码示例"
   ]
  },
  {
   "cell_type": "raw",
   "metadata": {},
   "source": [
    "以下代码是`matplotlib.pyplot`的简单演示：\n",
    "```\n",
    "import numpy as np  \n",
    "import matplotlib.pyplot as plt\n",
    "x=np.arange(-10,10,0.1)\n",
    "y=x**2\n",
    "plt.plot(x,y)\n",
    "```\n",
    "以上是一段代码示例。"
   ]
  },
  {
   "cell_type": "markdown",
   "metadata": {},
   "source": [
    "以下代码是`matplotlib.pyplot`的简单演示：\n",
    "```\n",
    "import numpy as np  \n",
    "import matplotlib.pyplot as plt\n",
    "x=np.arange(-10,10,0.1)\n",
    "y=x**2\n",
    "plt.plot(x,y)\n",
    "```\n",
    "以上是一段代码示例。"
   ]
  },
  {
   "cell_type": "markdown",
   "metadata": {},
   "source": [
    "指明代码所用编程语言：\n",
    "\n",
    "```python\n",
    "print(\"Hello World\")\n",
    "```\n",
    "\n",
    "```javascript\n",
    "console.log(\"Hello World\")\n",
    "```"
   ]
  },
  {
   "cell_type": "markdown",
   "metadata": {},
   "source": [
    "```python\n",
    "print(\"Hello World\")\n",
    "```\n",
    "\n",
    "```javascript\n",
    "console.log(\"Hello World\")\n",
    "```"
   ]
  },
  {
   "cell_type": "markdown",
   "metadata": {},
   "source": [
    "# HTML标记示例"
   ]
  },
  {
   "cell_type": "raw",
   "metadata": {},
   "source": [
    "使用 <kbd>Ctrl</kbd>-<kbd>Enter</kbd> 运行当前 Cell。<br><br>\n",
    "下标：2<sub>3</sub> <br>\n",
    "上标：2<sup>3</sup>"
   ]
  },
  {
   "cell_type": "markdown",
   "metadata": {},
   "source": [
    "使用 <kbd>Ctrl</kbd>-<kbd>Enter</kbd> 运行当前 Cell。<br><br>\n",
    "下标：2<sub>3</sub> <br>\n",
    "\n",
    "上标：2<sup>3</sup>"
   ]
  },
  {
   "cell_type": "markdown",
   "metadata": {},
   "source": [
    "# 转义字符示例"
   ]
  },
  {
   "cell_type": "raw",
   "metadata": {},
   "source": [
    "# 井号表示标题\n",
    "\\# 正常显示井号  \n",
    "* 星号表示列表  \n",
    "\\* 正常显示星号  \n",
    "` 这是代码`  \n",
    "\\` 就是要显示反单引号\\`  \n",
    "\\\\ 斜杠也想显示出来  "
   ]
  },
  {
   "cell_type": "markdown",
   "metadata": {},
   "source": [
    "# 井号表示标题\n",
    "\\# 正常显示井号  \n",
    "* 星号表示列表  \n",
    "\n",
    "\\* 正常显示星号  \n",
    "` 这是代码`  \n",
    "\\` 就是要显示反单引号\\`  \n",
    "\\\\ 斜杠也想显示出来  "
   ]
  },
  {
   "cell_type": "markdown",
   "metadata": {},
   "source": [
    "---"
   ]
  }
 ],
 "metadata": {
  "kernelspec": {
   "display_name": "Python 3",
   "language": "python",
   "name": "python3"
  },
  "language_info": {
   "codemirror_mode": {
    "name": "ipython",
    "version": 3
   },
   "file_extension": ".py",
   "mimetype": "text/x-python",
   "name": "python",
   "nbconvert_exporter": "python",
   "pygments_lexer": "ipython3",
   "version": "3.7.6"
  }
 },
 "nbformat": 4,
 "nbformat_minor": 2
}
