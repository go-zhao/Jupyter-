{
 "cells": [
  {
   "cell_type": "code",
   "execution_count": 1,
   "metadata": {},
   "outputs": [],
   "source": [
    "import ipywidgets as widgets\n",
    "from IPython.display import display\n",
    "\n",
    "from ipywidgets import interact"
   ]
  },
  {
   "cell_type": "code",
   "execution_count": 2,
   "metadata": {},
   "outputs": [],
   "source": [
    "import numpy as np\n",
    "import matplotlib.pyplot as plt"
   ]
  },
  {
   "cell_type": "code",
   "execution_count": 3,
   "metadata": {},
   "outputs": [],
   "source": [
    "def myfunc(a):\n",
    "    x = np.arange( -10, 10, 0.1 )\n",
    "    y = np.sin(a*x)\n",
    "    \n",
    "    plt.plot(x,y)   "
   ]
  },
  {
   "cell_type": "code",
   "execution_count": 4,
   "metadata": {},
   "outputs": [
    {
     "data": {
      "application/vnd.jupyter.widget-view+json": {
       "model_id": "d6824f4c2f804b0fb2831997a7d1aec3",
       "version_major": 2,
       "version_minor": 0
      },
      "text/plain": [
       "interactive(children=(IntSlider(value=1, description='a', max=3, min=-1), Output()), _dom_classes=('widget-int…"
      ]
     },
     "metadata": {},
     "output_type": "display_data"
    }
   ],
   "source": [
    "myplot = interact( myfunc, a=1 )"
   ]
  },
  {
   "cell_type": "code",
   "execution_count": 5,
   "metadata": {},
   "outputs": [
    {
     "data": {
      "application/vnd.jupyter.widget-view+json": {
       "model_id": "c08762ec1dfb42b1a65ca7615e6f08bf",
       "version_major": 2,
       "version_minor": 0
      },
      "text/plain": [
       "interactive(children=(IntSlider(value=1, description='a', max=3, min=-1), Output()), _dom_classes=('widget-int…"
      ]
     },
     "metadata": {},
     "output_type": "display_data"
    }
   ],
   "source": [
    "@interact(a=1)\n",
    "def myfunc2(a):\n",
    "    x = np.arange( -10, 10, 0.1 )\n",
    "    y = np.sin(a*x)\n",
    "    \n",
    "    plt.plot(x,y)   "
   ]
  },
  {
   "cell_type": "code",
   "execution_count": 6,
   "metadata": {},
   "outputs": [],
   "source": [
    "from ipywidgets import interactive\n",
    "\n",
    "myplot2 = interactive(myfunc, a=1)"
   ]
  },
  {
   "cell_type": "code",
   "execution_count": 7,
   "metadata": {},
   "outputs": [
    {
     "data": {
      "application/vnd.jupyter.widget-view+json": {
       "model_id": "e7f1b0fe7bfe489da62637b33b78dea0",
       "version_major": 2,
       "version_minor": 0
      },
      "text/plain": [
       "interactive(children=(IntSlider(value=1, description='a', max=3, min=-1), Output()), _dom_classes=('widget-int…"
      ]
     },
     "metadata": {},
     "output_type": "display_data"
    }
   ],
   "source": [
    "display(myplot2)"
   ]
  },
  {
   "cell_type": "code",
   "execution_count": 8,
   "metadata": {},
   "outputs": [
    {
     "data": {
      "text/plain": [
       "function"
      ]
     },
     "execution_count": 8,
     "metadata": {},
     "output_type": "execute_result"
    }
   ],
   "source": [
    "type(myplot)"
   ]
  },
  {
   "cell_type": "code",
   "execution_count": 9,
   "metadata": {},
   "outputs": [
    {
     "data": {
      "text/plain": [
       "ipywidgets.widgets.interaction.interactive"
      ]
     },
     "execution_count": 9,
     "metadata": {},
     "output_type": "execute_result"
    }
   ],
   "source": [
    "type(myplot2)"
   ]
  },
  {
   "cell_type": "code",
   "execution_count": 10,
   "metadata": {},
   "outputs": [
    {
     "data": {
      "text/plain": [
       "{'a': 1}"
      ]
     },
     "execution_count": 10,
     "metadata": {},
     "output_type": "execute_result"
    }
   ],
   "source": [
    "myplot2.kwargs"
   ]
  },
  {
   "cell_type": "code",
   "execution_count": 11,
   "metadata": {},
   "outputs": [
    {
     "data": {
      "text/plain": [
       "(IntSlider(value=1, description='a', max=3, min=-1), Output())"
      ]
     },
     "execution_count": 11,
     "metadata": {},
     "output_type": "execute_result"
    }
   ],
   "source": [
    "myplot2.children"
   ]
  },
  {
   "cell_type": "code",
   "execution_count": 12,
   "metadata": {},
   "outputs": [
    {
     "data": {
      "application/vnd.jupyter.widget-view+json": {
       "model_id": "7d9a431257614b2584b7b6756788a79c",
       "version_major": 2,
       "version_minor": 0
      },
      "text/plain": [
       "interactive(children=(IntSlider(value=1, description='a', max=3, min=-1), Button(description='Run Interact', s…"
      ]
     },
     "metadata": {},
     "output_type": "display_data"
    }
   ],
   "source": [
    "from ipywidgets import interact_manual\n",
    "\n",
    "myplot3 = interact_manual(myfunc, a=1)"
   ]
  },
  {
   "cell_type": "code",
   "execution_count": 13,
   "metadata": {},
   "outputs": [
    {
     "data": {
      "application/vnd.jupyter.widget-view+json": {
       "model_id": "06fe891463d940dabf62237257617beb",
       "version_major": 2,
       "version_minor": 0
      },
      "text/plain": [
       "interactive(children=(IntSlider(value=1, continuous_update=False, description='a'), Output()), _dom_classes=('…"
      ]
     },
     "metadata": {},
     "output_type": "display_data"
    }
   ],
   "source": [
    "myplot4 = interact(myfunc, a=widgets.IntSlider(value=1,continuous_update=False))"
   ]
  },
  {
   "cell_type": "code",
   "execution_count": 14,
   "metadata": {},
   "outputs": [
    {
     "data": {
      "application/vnd.jupyter.widget-view+json": {
       "model_id": "dd8ac56da19541999abe1683524f9cf4",
       "version_major": 2,
       "version_minor": 0
      },
      "text/plain": [
       "interactive(children=(IntSlider(value=1, description='a'), Output()), _dom_classes=('widget-interact',))"
      ]
     },
     "metadata": {},
     "output_type": "display_data"
    }
   ],
   "source": [
    "myplot5 = interact(myfunc, a=widgets.IntSlider(value=1,continuous_update=True))"
   ]
  },
  {
   "cell_type": "code",
   "execution_count": 15,
   "metadata": {},
   "outputs": [
    {
     "data": {
      "application/vnd.jupyter.widget-view+json": {
       "model_id": "a6d63a0fe1484445ae7127286669fd1b",
       "version_major": 2,
       "version_minor": 0
      },
      "text/plain": [
       "interactive(children=(FloatSlider(value=0.0, description='a', max=3.0, min=-3.0), IntSlider(value=0, descripti…"
      ]
     },
     "metadata": {},
     "output_type": "display_data"
    }
   ],
   "source": [
    "@interact(a=(-3,3,0.1),b=(-5,5),c=(-5,5))\n",
    "def myfunc(a,b,c):\n",
    "    x=np.arange(-10,10,0.1)\n",
    "    y=np.sin(a*x)*b+c\n",
    "    plt.plot(x,y)\n",
    "    plt.xlim((-10, 10))\n",
    "    plt.ylim((-5, 5))\n",
    "    plt.show()"
   ]
  },
  {
   "cell_type": "code",
   "execution_count": null,
   "metadata": {},
   "outputs": [],
   "source": []
  }
 ],
 "metadata": {
  "kernelspec": {
   "display_name": "Python 3",
   "language": "python",
   "name": "python3"
  },
  "language_info": {
   "codemirror_mode": {
    "name": "ipython",
    "version": 3
   },
   "file_extension": ".py",
   "mimetype": "text/x-python",
   "name": "python",
   "nbconvert_exporter": "python",
   "pygments_lexer": "ipython3",
   "version": "3.7.6"
  },
  "toc": {
   "base_numbering": 1,
   "nav_menu": {},
   "number_sections": true,
   "sideBar": true,
   "skip_h1_title": false,
   "title_cell": "Table of Contents",
   "title_sidebar": "Contents",
   "toc_cell": false,
   "toc_position": {},
   "toc_section_display": true,
   "toc_window_display": false
  },
  "widgets": {
   "application/vnd.jupyter.widget-state+json": {
    "state": {
     "06fe891463d940dabf62237257617beb": {
      "model_module": "@jupyter-widgets/controls",
      "model_module_version": "1.5.0",
      "model_name": "VBoxModel",
      "state": {
       "_dom_classes": [
        "widget-interact"
       ],
       "children": [
        "IPY_MODEL_5f527e05d6d34c9bb05754402ec6d854",
        "IPY_MODEL_6dc1437a216740eca6cab6aee4ee567d"
       ],
       "layout": "IPY_MODEL_4d6276568c594e9e879dac6084e9ae87"
      }
     },
     "0a10774f913343ac88c3ac5848425780": {
      "model_module": "@jupyter-widgets/controls",
      "model_module_version": "1.5.0",
      "model_name": "SliderStyleModel",
      "state": {
       "description_width": ""
      }
     },
     "1a2c9516720b4dba9aeb8309db4e6e1e": {
      "model_module": "@jupyter-widgets/base",
      "model_module_version": "1.2.0",
      "model_name": "LayoutModel",
      "state": {}
     },
     "1ac45602acd6433380b19b609f82692e": {
      "model_module": "@jupyter-widgets/controls",
      "model_module_version": "1.5.0",
      "model_name": "ButtonModel",
      "state": {
       "description": "Run Interact",
       "layout": "IPY_MODEL_dad05a394e244696adf88643ec7995d7",
       "style": "IPY_MODEL_95922a3e8f7d426d9628feaf5ca76806"
      }
     },
     "1d9141b7fc8d472487f5b01134f3170d": {
      "model_module": "@jupyter-widgets/base",
      "model_module_version": "1.2.0",
      "model_name": "LayoutModel",
      "state": {}
     },
     "25d59b82533b49da85ef029ef572e238": {
      "model_module": "@jupyter-widgets/controls",
      "model_module_version": "1.5.0",
      "model_name": "SliderStyleModel",
      "state": {
       "description_width": ""
      }
     },
     "274b6dec0c774d05b89187c2df1d9c2f": {
      "model_module": "@jupyter-widgets/controls",
      "model_module_version": "1.5.0",
      "model_name": "IntSliderModel",
      "state": {
       "description": "b",
       "layout": "IPY_MODEL_c90636ed326d401681415ff10313e54a",
       "max": 5,
       "min": -5,
       "style": "IPY_MODEL_2bece00faa644881b3a2019d2da677db"
      }
     },
     "281c95a459c84195a9abdc465a423d0c": {
      "model_module": "@jupyter-widgets/base",
      "model_module_version": "1.2.0",
      "model_name": "LayoutModel",
      "state": {}
     },
     "283e8c8dde53451db54220316f90676c": {
      "model_module": "@jupyter-widgets/controls",
      "model_module_version": "1.5.0",
      "model_name": "IntSliderModel",
      "state": {
       "description": "a",
       "layout": "IPY_MODEL_1d9141b7fc8d472487f5b01134f3170d",
       "max": 3,
       "min": -1,
       "style": "IPY_MODEL_a52dfabebd564ea88a3a768c23edf261",
       "value": 1
      }
     },
     "2bece00faa644881b3a2019d2da677db": {
      "model_module": "@jupyter-widgets/controls",
      "model_module_version": "1.5.0",
      "model_name": "SliderStyleModel",
      "state": {
       "description_width": ""
      }
     },
     "2eaae5ca246d43f5874286ca3604a87d": {
      "model_module": "@jupyter-widgets/controls",
      "model_module_version": "1.5.0",
      "model_name": "SliderStyleModel",
      "state": {
       "description_width": ""
      }
     },
     "32f54dec52974d1db59e0db415dde8da": {
      "model_module": "@jupyter-widgets/base",
      "model_module_version": "1.2.0",
      "model_name": "LayoutModel",
      "state": {}
     },
     "38aaaf99b37144b489815740a6f64697": {
      "model_module": "@jupyter-widgets/output",
      "model_module_version": "1.0.0",
      "model_name": "OutputModel",
      "state": {
       "layout": "IPY_MODEL_de8fdd1dbb8046728790d2b249b87969",
       "outputs": [
        {
         "data": {
          "image/png": "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\n",
          "text/plain": "<Figure size 432x288 with 1 Axes>"
         },
         "metadata": {
          "needs_background": "light"
         },
         "output_type": "display_data"
        }
       ]
      }
     },
     "38fba85a13c147749d7aec112236fe7e": {
      "model_module": "@jupyter-widgets/controls",
      "model_module_version": "1.5.0",
      "model_name": "SliderStyleModel",
      "state": {
       "description_width": ""
      }
     },
     "4c1ce341626e4ee19c299f97080edc74": {
      "model_module": "@jupyter-widgets/base",
      "model_module_version": "1.2.0",
      "model_name": "LayoutModel",
      "state": {}
     },
     "4d6276568c594e9e879dac6084e9ae87": {
      "model_module": "@jupyter-widgets/base",
      "model_module_version": "1.2.0",
      "model_name": "LayoutModel",
      "state": {}
     },
     "5be92827414c4869ba4f2fb70eb88ef0": {
      "model_module": "@jupyter-widgets/controls",
      "model_module_version": "1.5.0",
      "model_name": "IntSliderModel",
      "state": {
       "description": "a",
       "layout": "IPY_MODEL_8a9cf74ddcc740418a533304befe00a4",
       "max": 3,
       "min": -1,
       "style": "IPY_MODEL_0a10774f913343ac88c3ac5848425780",
       "value": 1
      }
     },
     "5e85d043a7b94c409a1026d69007a4d7": {
      "model_module": "@jupyter-widgets/base",
      "model_module_version": "1.2.0",
      "model_name": "LayoutModel",
      "state": {}
     },
     "5f527e05d6d34c9bb05754402ec6d854": {
      "model_module": "@jupyter-widgets/controls",
      "model_module_version": "1.5.0",
      "model_name": "IntSliderModel",
      "state": {
       "continuous_update": false,
       "description": "a",
       "layout": "IPY_MODEL_a81d3bafaf104d198bddde15dcb6fd4d",
       "style": "IPY_MODEL_25d59b82533b49da85ef029ef572e238",
       "value": 1
      }
     },
     "5fa3a795255248b8b0c0e3a79e31acf9": {
      "model_module": "@jupyter-widgets/base",
      "model_module_version": "1.2.0",
      "model_name": "LayoutModel",
      "state": {}
     },
     "617b16e28be642b580f3e3080dd0fb2f": {
      "model_module": "@jupyter-widgets/base",
      "model_module_version": "1.2.0",
      "model_name": "LayoutModel",
      "state": {}
     },
     "69a78092679a484f8d0245af52bbda2c": {
      "model_module": "@jupyter-widgets/controls",
      "model_module_version": "1.5.0",
      "model_name": "SliderStyleModel",
      "state": {
       "description_width": ""
      }
     },
     "6dc1437a216740eca6cab6aee4ee567d": {
      "model_module": "@jupyter-widgets/output",
      "model_module_version": "1.0.0",
      "model_name": "OutputModel",
      "state": {
       "layout": "IPY_MODEL_1a2c9516720b4dba9aeb8309db4e6e1e",
       "outputs": [
        {
         "data": {
          "image/png": "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\n",
          "text/plain": "<Figure size 432x288 with 1 Axes>"
         },
         "metadata": {
          "needs_background": "light"
         },
         "output_type": "display_data"
        }
       ]
      }
     },
     "6e7cd9f3bc12484da14fc33fa048fe83": {
      "model_module": "@jupyter-widgets/base",
      "model_module_version": "1.2.0",
      "model_name": "LayoutModel",
      "state": {}
     },
     "7369cf366e5b4b73b642581ba23c2205": {
      "model_module": "@jupyter-widgets/base",
      "model_module_version": "1.2.0",
      "model_name": "LayoutModel",
      "state": {}
     },
     "78fd92ace20e41f68456445c4473bc25": {
      "model_module": "@jupyter-widgets/base",
      "model_module_version": "1.2.0",
      "model_name": "LayoutModel",
      "state": {}
     },
     "7d9a431257614b2584b7b6756788a79c": {
      "model_module": "@jupyter-widgets/controls",
      "model_module_version": "1.5.0",
      "model_name": "VBoxModel",
      "state": {
       "_dom_classes": [
        "widget-interact"
       ],
       "children": [
        "IPY_MODEL_283e8c8dde53451db54220316f90676c",
        "IPY_MODEL_1ac45602acd6433380b19b609f82692e",
        "IPY_MODEL_b13f442bdb4b4788b056e392aea613c6"
       ],
       "layout": "IPY_MODEL_bcfc2d7a5434473e855d1a061e909ea8"
      }
     },
     "8145917652ca4a55bf601e8f8833b865": {
      "model_module": "@jupyter-widgets/controls",
      "model_module_version": "1.5.0",
      "model_name": "IntSliderModel",
      "state": {
       "description": "a",
       "layout": "IPY_MODEL_d771b1be48be433c83a953555f300b27",
       "max": 3,
       "min": -1,
       "style": "IPY_MODEL_e9d454a6abb64fafb1032d4ac1af8c1c",
       "value": 1
      }
     },
     "87d97442b2df486fa4212e6d8cad9331": {
      "model_module": "@jupyter-widgets/base",
      "model_module_version": "1.2.0",
      "model_name": "LayoutModel",
      "state": {}
     },
     "8a9cf74ddcc740418a533304befe00a4": {
      "model_module": "@jupyter-widgets/base",
      "model_module_version": "1.2.0",
      "model_name": "LayoutModel",
      "state": {}
     },
     "95922a3e8f7d426d9628feaf5ca76806": {
      "model_module": "@jupyter-widgets/controls",
      "model_module_version": "1.5.0",
      "model_name": "ButtonStyleModel",
      "state": {}
     },
     "9bb4117167c949d3bdb167794f8191cc": {
      "model_module": "@jupyter-widgets/base",
      "model_module_version": "1.2.0",
      "model_name": "LayoutModel",
      "state": {}
     },
     "a1375062ae7d4c2fadc4a14e4273bc02": {
      "model_module": "@jupyter-widgets/output",
      "model_module_version": "1.0.0",
      "model_name": "OutputModel",
      "state": {
       "layout": "IPY_MODEL_9bb4117167c949d3bdb167794f8191cc",
       "outputs": [
        {
         "data": {
          "image/png": "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\n",
          "text/plain": "<Figure size 432x288 with 1 Axes>"
         },
         "metadata": {
          "needs_background": "light"
         },
         "output_type": "display_data"
        }
       ]
      }
     },
     "a52dfabebd564ea88a3a768c23edf261": {
      "model_module": "@jupyter-widgets/controls",
      "model_module_version": "1.5.0",
      "model_name": "SliderStyleModel",
      "state": {
       "description_width": ""
      }
     },
     "a6d63a0fe1484445ae7127286669fd1b": {
      "model_module": "@jupyter-widgets/controls",
      "model_module_version": "1.5.0",
      "model_name": "VBoxModel",
      "state": {
       "_dom_classes": [
        "widget-interact"
       ],
       "children": [
        "IPY_MODEL_b71f0f8f432c43bca21baa8d42163e18",
        "IPY_MODEL_274b6dec0c774d05b89187c2df1d9c2f",
        "IPY_MODEL_c9638f3cf8754dd48bdbb0fe5e6ff9e6",
        "IPY_MODEL_ab3381098bb742a6837fde34d1f80db1"
       ],
       "layout": "IPY_MODEL_f5cdbaa697a041cd8b634579a9072f7d"
      }
     },
     "a81d3bafaf104d198bddde15dcb6fd4d": {
      "model_module": "@jupyter-widgets/base",
      "model_module_version": "1.2.0",
      "model_name": "LayoutModel",
      "state": {}
     },
     "aaf1a82fbfa1461bb4049a7591566d55": {
      "model_module": "@jupyter-widgets/base",
      "model_module_version": "1.2.0",
      "model_name": "LayoutModel",
      "state": {}
     },
     "ab3381098bb742a6837fde34d1f80db1": {
      "model_module": "@jupyter-widgets/output",
      "model_module_version": "1.0.0",
      "model_name": "OutputModel",
      "state": {
       "layout": "IPY_MODEL_aaf1a82fbfa1461bb4049a7591566d55",
       "outputs": [
        {
         "data": {
          "image/png": "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\n",
          "text/plain": "<Figure size 432x288 with 1 Axes>"
         },
         "metadata": {
          "needs_background": "light"
         },
         "output_type": "display_data"
        }
       ]
      }
     },
     "adf67661e8cd46a587419432f1c48ca9": {
      "model_module": "@jupyter-widgets/base",
      "model_module_version": "1.2.0",
      "model_name": "LayoutModel",
      "state": {}
     },
     "b13f442bdb4b4788b056e392aea613c6": {
      "model_module": "@jupyter-widgets/output",
      "model_module_version": "1.0.0",
      "model_name": "OutputModel",
      "state": {
       "layout": "IPY_MODEL_4c1ce341626e4ee19c299f97080edc74"
      }
     },
     "b71f0f8f432c43bca21baa8d42163e18": {
      "model_module": "@jupyter-widgets/controls",
      "model_module_version": "1.5.0",
      "model_name": "FloatSliderModel",
      "state": {
       "description": "a",
       "layout": "IPY_MODEL_78fd92ace20e41f68456445c4473bc25",
       "max": 3,
       "min": -3,
       "step": 0.1,
       "style": "IPY_MODEL_69a78092679a484f8d0245af52bbda2c"
      }
     },
     "b7d94543fe2e481481846292fecd71e1": {
      "model_module": "@jupyter-widgets/output",
      "model_module_version": "1.0.0",
      "model_name": "OutputModel",
      "state": {
       "layout": "IPY_MODEL_5e85d043a7b94c409a1026d69007a4d7",
       "outputs": [
        {
         "data": {
          "image/png": "iVBORw0KGgoAAAANSUhEUgAAAYIAAAD4CAYAAADhNOGaAAAABHNCSVQICAgIfAhkiAAAAAlwSFlzAAALEgAACxIB0t1+/AAAADh0RVh0U29mdHdhcmUAbWF0cGxvdGxpYiB2ZXJzaW9uMy4xLjMsIGh0dHA6Ly9tYXRwbG90bGliLm9yZy+AADFEAAAgAElEQVR4nO29eXRkV3Xv/9lVUmmq0lwaW+rW1N3qwe625bbBYBs8YDPYJgzPTvLiJPBzQmBl+iW/mMd7hAchC5K8R0geIXGAhCQ8MBAIDjYY29iYwVPb7lHdraEnqaWWSrNKs1Tn90fdqy5XS62hhntv3fNZq5aq7lB369S953vO2fvsI0opNBqNRuNePFYboNFoNBpr0UKg0Wg0LkcLgUaj0bgcLQQajUbjcrQQaDQajcvJstqAzVBeXq62bdtmtRkajUbjKF555ZUhpVQwfrsjhWDbtm0cPHjQajM0Go3GUYjIuZW266EhjUajcTlaCDQajcblaCHQaDQal6OFQKPRaFyOFgKNRqNxOUkRAhH5iogMisixVfaLiPyNiHSJyBERuSZm3wMi0mm8HkiGPRqNRqNZP8nqEfwzcOcV9t8FtBivB4EvAohIKfCnwPXAAeBPRaQkSTZpNBqNZh0kZR6BUuo5Edl2hUPuAf5FRXNevyAixSJSDdwCPKmUGgEQkSeJCsrXk2GXJrn0jEzzfPcwCsXb91YTyM222iRX0Ts6zSvnRhmfWeAde6sp8+dYbZKrGJma55mTg8wtRnhjUxnbygusNilppGtCWS3QE/O519i22vbLEJEHifYmqK+vT42VmlX58s/O8GePtWMuX/E//7Odv3jvVbzzqhprDXMJ332tl49+5yizCxEAPvODk/zRHTv4zTc1WGyZO/jhsYv8t+8eZWRqHgCf18OH39LM797ajIhYbF3ipEsIViopdYXtl29U6mHgYYC2tja9mk4a+fxTnXzuqQ7u3F3FH71tO+G5JT71/XZ+7xuH8Hk93LG7ymoTM5pHXj7Pn/z7UQ40lPKJd+1GBP7ihyf55PfbKczL5r3XbrHaxIzmp50hPvS1V9hTU8SXH2ijKC+bzxnPRJZX+PBbmq02MWHSFTXUC9TFfN4C9F1hu8YmvHp+lM8/3cG799fyhV+5huaKAPvqivnn37iOPbVF/P4jh+gfn7HazIzldCjMJx5t58bmMr72wevZVVNIa3Uh//Bf27ixuYyH/v0IR3rHrDYzY+kfn+H3vnGI7RUBHvmtG9hfX0Jj0M/f3LePd11dw1/96BQ/6QhZbWbCpEsIHgV+zYgeugEYV0r1A08Ad4hIieEkvsPYprEBc4tL/H/fPkJVYS6fvGc3Xs+lDlwgN5v/c/9+liKKTz92wkIrMxelFH/0rcPkZHv4X+/bR7b30uPqy/Lwd79yLcX52Xzq++3oJWdTw599/wSzC0v83a9eQ77v0gCKiPDZ9+ylKejnf/zHMeYXIxZamTjJCh/9OvA8sENEekXkAyLy2yLy28YhjwOngS7gH4HfATCcxJ8CXjZenzQdxxrr+ebBXroGw3z63XtXdAzXlebzoVua+P6Rfp7vHrbAwszm2VMhXj0/xkN37qSqKPey/UV52fzh7Tt4+ewoPzx20QILM5tjF8Z57Gg/H3xzI01B/2X7831ZfOztrZwfmeaRgz0rfINzSIoQKKXuV0pVK6WylVJblFJfVkr9vVLq7439Sin1YaVUk1Jqr1LqYMy5X1FKNRuvf0qGPZrEWVyK8PBz3eyrK+aWHZdlrV3mt29uoiKQwxd/0p1G6zIfpRSff7qT2uI83nMFH8D727awvdLPX/3olO4VJJnPPdlBUV42H7iCQ/6WHUEObCvlb57uZGZ+KY3WJRc9s1izIo8fu0jPyAwfuqXpilERudlefu0NW3muI0TnwGQaLcxsft41zKGeMT78lubXDQnFk+X18Fs3NdEdmuIXuleWNDoHJnn65CD/z5sbKMpbPUxaRPiD27cTmpzj+0ec697UQqBZkS//7AxNwQJub61c89j7D9Tjy/LwT784m3rDXMLXXjxHaYGP91y7YjT163jHVdWUFvj4l+fPptwut/D1l3rI9gr3H1g7VP2GxlKaK/z835fOp8Gy1KCFQHMZXYNhDveMcf+BejyetWOky/w53Luvhu+82kt4bjENFmY2o1PzPHVigHv31ZKT5V3z+NxsL+9vq+PJ9gH6xnQEV6LMLS7xndd6uWNX1bom7YlEBeO182Oc6J9Ig4XJRwuB5jK++1ovHoG7961/stj72uqYXYjwVPtACi1zB987dIGFJcX72tY/P+BXrq8nouA/Dl1IoWXu4InjA4xNL3Dfgbq1DzZ4zzW1+LI8fN2hvQItBJrXEYko/uO1Pm7aHqQicHmkympcW19CTVEujx527jipXfj2q73sqY3OF1gvdaX57K8v5rEj/Sm0zB1877UL1BbncWNT+brPKc73cXtrJY8f7Wcp4jynvRYCzet4+ewIF8ZmePf+tcemY/F4hHddXcNzHSFGjWn4mo1zfniaYxcmuHffxsof4B17qzneN8GZoakUWOYOwnOL/LRziDv3VK1rWDSWu/ZWMRSe5+BZ50XAayHQvI4ftQ/g83q4bR1O4njedXUNixHFD3RM+6b5UXu07N62ibQdb99bDcDjR3WvYLM8c3KQ+aUId+7ZePm/ZUcFOVkeR97/Wgg0yyilePrEAG9sLqMgZ+NpqHbXFFJfms/TJ7SfYLP8qH2AnVUB6krzN3xuTXEe1+jhoYT44fGLlPtzuKZ+49nwC3KyuGl7kB8eu0jEYcNDWgg0y3SHpjg7PM2tm+gNQDR64i07gvy8e4jZBedOrrGK4fAcB8+OJJTE7/ZdVbT3TzAwMZtEy9zB7MISz5wc5I7dla9Lp7IR7tpTxcWJWY5cGE+ydalFC4FmmaeMlvxtrRWb/o5bdlYwuxDhxTPOGye1mh+fHCSi4I5dmxNiYHkWeCYkQks3L58dYXp+aV1zZ1bjlh0ViMBzDit/LQSaZX58YpDdNYVUF+Vt+jve0FhGbraHZ04OJtEyd/Bc5xAVgRx216w/WiienVUBKgtz+MkpZ1VEduCnnUP4vB6ubyzd9HeUFvjYW1vETzudVf5aCDQATM0t8ur5UW7evnpeofWQm+3ljU3lPHtKC8FGiEQUv+ga4k3N5QktdCIi3Lw9yE87QywuOTsjZrp5riPEtVtLXpdldDO8uaWcV8+PMTG7kCTLUo8WAg0AL50dYTGiuLF5/bHTq3Hz9iBnh6fpGZlOgmXu4OTFSYan5pNU/hVMzC5yqEevU7BeBidmOXlxkjdvT7z8b2oJshRRjsrIq4VAA8AvuobwZXm4duvGoyXieWNTGQDPn3bOg2A1P+8aAkiKEER7FdHEdZr18TOj/G9qSaxHDHDN1hIKfF5H+Qm0EGgA+EX3MNfWl5CbvXZum7VorvBTVuDjBQe1iKzmZ11DNFf4V1x3YKMU5WfTWlXIi2d0+a+Xn3UNUZKfza4NzOZejWyvhxsay3SPQOMsRqfmae+fWG7JJ4qIcENjGS+cHtY58tfB/GKEl86McGOSyh/g+sZSXj0/ytyiDuNdDy+dGeH6hrINzyZejesbSzk9NMXgpDPCeJO1QtmdInJKRLpE5KEV9n9ORA4Zrw4RGYvZtxSz79Fk2KPZGNEKG97YnLyK6IamMvrGZzmv/QRrcrxvnJmFJa5vTKIQNJQxuxDhSK+z4tmtoG9sht7RGa5r2Hy0UDwHGqK/5cGzo0n7zlSSsBCIiBf4AnAXsAu4X0R2xR6jlPoDpdQ+pdQ+4G+B78TsnjH3KaXuTtQezcZ5+ewoOVke9tYWJ+0732CE4L2g/QRrYlYWbdsS98+YHDAqtRd1+a/Jy0ZuoOuTKAS7awrJy/bykkPm0ySjR3AA6FJKnVZKzQPfAO65wvH3A19PwnU1SeKVcyNcXVeMLyt5I4VNQT/lfp+eWLYOXj47wray/A1le12L0gIfOyoDuvzXwUtnRvDnZG0o2+taZHujgRdOKf9kPPm1QOzKzb3GtssQka1AA/DjmM25InJQRF4QkXtXu4iIPGgcdzAUco433u7MzC9xvG+CtiREC8UiIuyvL+G18zqE8UoopTh4bpS2bclrjZpc31jKK+dG9XyCNXj57AjXbC3ZdFqJ1TjQUMrJixOMT9t/PkEyhGCl0lvNQ3gf8G2lVKwHq14p1Qb8MvDXItK00olKqYeVUm1KqbZgMPEQL02UQz1jLEZUUoclTK7dWsKZoSmGw3NJ/+5MoTs0xcjUPNeloPyvqS9hen6JjoFw0r87UxibnqdjIJzUYSGT67aVohS8ct7+vYJkCEEvELuUzxZgtdVJ7iNuWEgp1Wf8PQ08C+xPgk2adfLKuehNuplsi2thfqfuFayOmbs+FT2C5fLvcYbD0grMezMZ82fiubquCK9HOOSA+z8ZQvAy0CIiDSLiI1rZXxb9IyI7gBLg+ZhtJSKSY7wvB24E2pNgk2adHDw3SkuFn+J8X9K/+6otRWR5hFfP64poNV49P0pJfjaN5QVJ/+660jzKCny8es7+FZFVvNYzhkdgb21R0r8735fFjsoArzlghnfCQqCUWgQ+AjwBnAC+qZQ6LiKfFJHYKKD7gW+o1weWtwIHReQw8AzwGaWUFoI0oZTitfNjKWkNQTTv0O6aQl45p4VgNQ73jHN1XXFC+YVWY9lPo3sEq3KoZ4ztlYFNrb+xHvbVF3OoZ8z26xMk5b9XSj0OPB637eNxnz+xwnm/APYmwwbNxjk3PM34zAJX1yUvbDSe/fUlPPJyDwtLEbK9ev5iLOG5RToGJ7lr7+bXH1iL/fXFPHVigLHp+ZT0+pxMJKI4dH6Ud1xVnbJr7K8r5v++eJ7TQ2GaKwIpu06i6CfTxRzujXZZr96SSiEoZmZhiY6ByZRdw6kcuzCOUqRUiE0/gU5AdzlnhqeYmF1kX0obQtHvtrufTAuBizncM05utoftlf6UXeMqQ2SO6hmul3G4J/VCfNWWIjxi/4rICkwn7r661AyNAjSW+wnkZtneT6CFwMUc6R1jT00RWSkcstlWlk8gN8txS/elg8O9Y9SX5lNakLohm4KcLJqCfo7p8r+MQz1jFPi8NFekriHk8Qj76optHzmkhcClLC5FONY3vtxiTxUiwlVbinSPYAUOnR9L6bCQyd7aIo5qIbiMIxfG2VNblPSJZPHsrS2iY2DS1ut4ayFwKR0DYWYXIlxdl/ywuXj21hZz8uKEzoQZw1B4jr7xWa7ekoby31LE4OScXtA+hsWlCCf7J9hdk/ry31NbxGJE2dpPpoXApRy9EO2qprpHEL1GEQtLilMX7fsgpJv2vgmAtFREZoy87pVd4szQFHOLkYTWh14vy+Vv416ZFgKX0t43gT8ni62l+Sm/1lVGq1enRL5Ee39UCJKxEMpa7KopxCNoP00Mxw0h3pUGIdhSkkdRXrat/TRaCFxKe/8ErdWBpC3EcSVqi/MoLfDpFmkM7X0T1BbnUZSfnfJr5fuyaK7QDuNY2vsn8GV5UuooNhER9tQW6h6Bxl5EIooT/ZNJTbt7JUSEXdWFy61gTXQxmnS0Rk321BbpHlkMx/vG2VEZSNskxz21RZy6OMn8oj0zwWohcCG9ozOE5xbTMixhsrMqQMfApE6JDEzPL3J6aCqt5b+7poih8Jxjlk5MJUop2vsm0uIfMNlTE/WT2dVhrIXAhbT3R1uG6eoRmNeaW4xwdngqbde0K6cuTqJUesanTVqro+kNTvbbsyJKJ/3js4xOL6S9RwbYdnhOC4ELae+fxCOwoyp9uU9M0WnXFVFaHcUmO6ui1zp5UQ/PHV+O2Epf+W8tzScv28tJm0bOaSFwIe19EzQG/eRme9N2zeYKP9le4YT2E9DeN0FhbhZbSvLSds3SAh+VhTmc0EJMe98EIpfEMR14PMKOqoBtQ6hdJQRPtg/w3dd6rTbDck70T6S1NQrgy/LQFPRrISDaI9hVU5iS1NNXorW6UJc/UUdxQ1lBylJPr0ZrdYCTFyd4fSZ+e+AqIfjmwR6+8Ey31WZYyvj0AhfGZtLqHzBprS50/Rj1UkRxsn+SXdWpn0gWz86qQrpDYdtGrqSL430TafUPmOyoDDA6vcDgpP2Wbk2KEIjInSJySkS6ROShFfb/uoiEROSQ8fpgzL4HRKTTeD2QDHtWY2dVwJhR6N5UBycupm8iTTyt1QEuTswyOjWf9mvbhbPDU8wsLFlW/gtLitND7l3D2GwIpWNGdzw7jcaXHXtlCQuBiHiBLwB3AbuA+0Vk1wqHPqKU2me8vmScWwr8KXA9cAD4UxFJWU7Y7ZUBliKKrkH3PghmagMziiSdtNr4QUgXZvmne2gOdPkDHDci5qwQ4p1GcIYdHcbJ6BEcALqUUqeVUvPAN4B71nnu24AnlVIjSqlR4EngziTYtCLmD2HXWN50cKJ/gnJ/DhWB3LRf+1LkkHsrovb+CbK9kpYZrfE0lBfg83pcPTzXbkHEkElxvo/qolxO2vD+T4YQ1AI9MZ97jW3xvEdEjojIt0WkboPnJoVt5oNgQ0VOF2ZqCSso9+cQDLg7cuV43wQtFQF8Wel3z2V7oykVTrj5/u+boLIwh3J/jiXX31kVsGX9k4y7caXQh3i3+H8C25RSVwFPAV/dwLnRA0UeFJGDInIwFAptytBsr4fGYIFtQ7hSzcJShM6BsCXdYpPog2C/FlG6aLfIUWkSddi7uPz7JywJlDDZWV1I16D9HPbJEIJeoC7m8xagL/YApdSwUsp0lf8jcO16z435joeVUm1KqbZgMLhpY3dWBehwqRB0h8LML0UsGZ822VVdSOdAmAUXppoYnJxlKDxnaUXUWh1gcHKO4bD9IldSzeJShNOhKXZUWreI/M6qAIsR+znskyEELwMtItIgIj7gPuDR2ANEpDrm493ACeP9E8AdIlJiOInvMLaljO1VAfrGZxmfWUjlZWyJlY5Kk9bqQuaNB9JtdFyMPvw70zijO55LM4zd1xg6OzzN/FKEFkuFwCh/mw2PJiwESqlF4CNEK/ATwDeVUsdF5JMicrdx2O+KyHEROQz8LvDrxrkjwKeIisnLwCeNbSnDzQ7jUxcn8Xk9NJQXWGaDmyNXzHuupTL9jmIT0z/kxvLvNMrfyh5BY7AgOsPeZsOjSZlap5R6HHg8btvHY95/FPjoKud+BfhKMuxYDzsMRT51cZLrtpWm67K2oGNgksZgQUoXq1+LxmDUYX+if4J796csLsCWdA5OUpyfTdAiRyVAmYsd9h0DYUSwJGLLJOqwD2Rej8Bp1BTlEsjJcqXDuGMgzHYLW0NwKXLFjUMTHQNhtlcE0p5aIh63Ouw7BiapL80nz5e+HFsr0WrD8nedEIgI222c/ClVTM0tcmFshu0WDkuYbK/0u25Sn1LRXPRWDguZmA57t60N0TEwSUuFtQ0hgJ3VAQYm5hix0Qx71wkBRNMvnxqYtGXyp1RhVrzNNngQWioDXBiLLo7jFgYm5picXbS8RwbRGfbzSxHOjUxbbUramF+McGZoyhYNITumBHenEFQGGJ9ZYGDCPSF0pqPSDg9CizFG66ZegR0cxSamDZ0D7in/M0NTLEZUWtfgWA0zYMVOoxLuFILlnB/2UeRU0zkYxpflYWuZdRFDJmb4XqeLIrcuCbH1FVFT0BRi95W/HYaGgoEcCnOzbNUQcqcQVLovhLRjYJKmoB+vx1pHJUB9aT6+LA+dNnoQUk3nQJiyAp9lqQ1iKcjJorY4z1Xl3zEQXZWvMWh9Q0hEaKkM2Kr8XSkEJQU+KgI5ropc6RwI22JYCMDrEZqCfnf1CAbt4Sg2aan00+GioaGOgUm2lRekdVW+K9FSYa+ACVcKAWDrZeOSTdiIGGqxMH46npYKv61aRKlEKWUIsfXDEibbKwN0h8IsRdwRMNFphO7aheYKPyNT87ZJ9eFaITAfhIgLHgSz5WHl1Pp4Wir89I7OMOWCyKG+8VnCc4u2Kv/mCj/zixF6XBA5NLuwxNlhe0QMmSz7yWzSGHKtEDRX+JldiHBhbMZqU1KOnRyVJuaD0B2yx4OQSpbL32Y9MrBPRZRKukNhIiqaZ8wu2C1yztVCAPb5IVJJ58AkOVke6kvzrTZlGTeFMHbaUIibl4Ug84dHzXvMTuVfXZRLgc9rm/rHvUIQdI8QdAyEbRMxZLK1NB+f10OHCyqijoEw5f4cSgp8VpuyTCA3m+qiXLpcIMSnBibJ9grbbBA6bSIiNFcGbCPErhWCkgIf5X6fK4Sg0yapDWLJMhYJckNF1DkwaavxaZNmlzjsOwcmo8t0WrAq3JVoqfDbpkdsr5JJM01Bv20UOVVMzi7QNz5rq26xiRsqokhE0Tlor4ghk5aKAF2DmR8w0TkYtsVEsniaK/wMTs4xPm392iiuFoJmI5Y3k3MOLUcM2chRadJSEaBndJqZ+SWrTUkZF8ZmmJ5fsl2PDKLpRmYWljI6YGJ2YYmekWlLU0+vxrLDOGR9Y9T1QjAxu0jIJrG8qcCOjjKT7ZV+lMrsyKGukCnE9iv/ZYd9BveKzwxNEVHQZEshMFOtWH//J0UIROROETklIl0i8tAK+/9QRNpF5IiIPC0iW2P2LYnIIeP1aPy5qcT8ITLZT9A5OIkvy0OdjSKGTNxQEXUb91aTDVIbxNMctE9FlCqWs+4G7ScEtSV55GZ7bFH/JCwEIuIFvgDcBewC7heRXXGHvQa0KaWuAr4N/EXMvhml1D7jdTdpxA0hpN2hKRrLC2wVMWSytSy6bF8mpzroDk1RnJ9NqY0ihkyK8rOpCORktJ+mOxRdlcwOOYbiWU61YoPyT0aP4ADQpZQ6rZSaB74B3BN7gFLqGaWUOYXxBWBLEq6bMJWFOfhz7JUFMNl0h8K27BZDdLWyhvKCjM451B0K0xz0W74q2Wq0VNqjIkoVXYNhtpTk2SbHUDx2yTmUDCGoBXpiPvca21bjA8APYj7nishBEXlBRO5d7SQRedA47mAoFErM4kvfSZNNfohUYDrKmmzYLTZprvDTHZqy2oyUcToUtnX5t1QE6MrgRZq6BsO2HBYyscsiTckQgpWaOiveVSLyq0Ab8Jcxm+uVUm3ALwN/LSJNK52rlHpYKdWmlGoLBoOJ2rxMczBzheDc8DQRZe1i3WvRFPRzbniKucXMixwam55nKDxPU4X9hiVMmiv8TM0v0Tc+a7UpSWcpojgzNGVrITafzW6L66BkCEEvUBfzeQvQF3+QiNwGfAy4Wym1HKajlOoz/p4GngX2J8GmddNSacTyzlgfy5tsumzsqDRprvATUVHRyjTMaChdEVnDhdEZ5hYjtm4INdsk51MyhOBloEVEGkTEB9wHvC76R0T2A/9AVAQGY7aXiEiO8b4cuBFoT4JN6yaTU02YFVFjuX0fhKZMLv/B6JCXnSuiTC5/Mz7fzuW/tTSfbK9YXv4JC4FSahH4CPAEcAL4plLquIh8UkTMKKC/BPzAt+LCRFuBgyJyGHgG+IxSKr1CkMEtou5QmNriPPJ89nSUwaVoDqsfhFTQHQrj83rYUmK/0F2Tcr+PorzsjJzLYQqxnXtkWV4P28oKLC//rGR8iVLqceDxuG0fj3l/2yrn/QLYmwwbNkudsWxiVyY+CDaOGDLJ90WXTbT6QUgF3aEwDTYN3TURkeUZ9plG12B0eVA7Jftbiaag3/Lki66eWQzRWN7G8oKMexAiEUX34JSt/QMmmRq51TUYtrWj2KQpaH2LNBV0OaAhBNFRiXPD08wvRiyzwfVCAGbys8yKZb84McvMwpKtu8UmzUE/p0NTGZX8bG5xifMj07YOXTRprvAzFJ5nbHrealOShlIqKsQOKP+migKWIorzI9aFUWshIPog9I7OMLuQOSGMTohYMWmuiCY/6xvPnORnZuiuU1qkkFk5n4an5hmfWbC1o9jkksNeC4GlNAWjyc/ODGXOxKblHDcOGZqAzHIYX8ox5KSKKHPKfznHkIOEwEoh1kKAPX6IZNMVChPIzSLoz7HalDW51CLNICE27qWGcvsL8ZaSaMBEJpa/E3xkBTlZVBflWhq5qIWA6MMqcincLBPoHpyiucK+OW5iKfPnUJKfnXEt0pqiXApykhKYl1IyMWCiazBMXraXmqI8q01ZF01Bv+4RWE2ez5txIYzdNs9xE4/VD0Ky6Q5NOcI/YJJpkVtdg2EagwV4bBy6G4uZc8uqnE9aCAyiP0RmPAgTswsMTs45SgiaK/wZM6lPKeU4IW4O+ukZnc6YgInTIXvnGIqnKVhAeG6RgQlrFsnSQmDQlEEhjKdD5oxK+4+PmjQF/QxPzTM65fwQxosTs0zPLzmqR9BckTkBE9Pzi1wYm3GEo9jEaj+lFgKDpmA0hLF/wvlZGC9FDDnnQcikEMZLqQ2cJcSQGZFDlxpCzrv/rSp/LQQG5kObCcMT3aEwWR6h3obLU66G1Q9CMjHFzEkt0sagETCRCUIcck7otEkwkEMgJ0v3CKymKcMqoq1l+WR7nfPz1hTnkZNlj/VbE6Vr0Dmhuya52V7qSvIzovy7Q1N4BLaVOUcIRIRGC/2UzqkpUkxZQeZkYXTK1PpYvB6hMUMih0xHsRNCd2PJlORz3aEwdaX5tl2ecjWsXCRLC4GBiGRE8q2FpQjnhqcd5R8waQoWZEQWWKdFDJk0BQs4MzTFksMDJrod2BCC6FDWwMQck7PpXyRLC0EM0Vh2Z0dNnB+ZZjGiHPkgZELOp8nZBQYm5hw1Pm3SXOFnbjHChVHn5ny6tDyl88rffGZPW1AHaSGIoanCT8jhy1Z2OyjHSjxmCKMVD0KyMG13QtbReJYd9iHnZuLtG4suT+nUhhBY47BPihCIyJ0ickpEukTkoRX254jII8b+F0VkW8y+jxrbT4nI25Jhz2ZpXlZk5w5PmD2aRge3iJw8PNTlwNBdk+VYdgenWukKObf860vzyfJYs2xlwkIgIl7gC8BdwC7gfhHZFXfYB4BRpVQz8Dngs8a5u4iucbwbuBP4O+P7LKEpA5KfdYfCVARyKMzNttqUDXMp55NzhcCJobsmxfk+yv0+RzuMnZT1NZ5sr4etZfmO7REcALqUUoiUGG0AACAASURBVKeVUvPAN4B74o65B/iq8f7bwK0SDam4B/iGUmpOKXUG6DK+zxLqSvLI9oqjHcZOdVRCTAijw8vfaaG7sTQF/Q4v/ylK8rMptfnylKthlZ8yGXdrLdAT87nX2LbiMcZi9+NA2TrPBUBEHhSRgyJyMBQKJcHsyzEXknZqi0gpFY2YcKCj0sTpOYe6HZbjJh4z+ZxVyc8SxckNIYje/2eHplhYSu+ylckQgpWCpePvotWOWc+50Y1KPayUalNKtQWDwQ2auH6cnAUzFJ5jYnaRxnJnPwinHRrCGA3dnXKko96kOehnfGaBYYfmfDrtcCFoCvpZjCjOj0yn9brJEIJeoC7m8xagb7VjRCQLKAJG1nluWmmqKOD88HTaFTkZmE4+J1dETcEC5hcj9I6m90FIBudHpllYcmboromTU32MTc8zFJ53dI942U+Z5vJPhhC8DLSISIOI+Ig6fx+NO+ZR4AHj/XuBH6to3/NR4D4jqqgBaAFeSoJNm8ZU5HPDzquIuh0cMWHi5ORzTkz2F0+Tk8vfgcnm4lletjXN5Z+wEBhj/h8BngBOAN9USh0XkU+KyN3GYV8GykSkC/hD4CHj3OPAN4F24IfAh5VSls4msjodbCJ0DYbJ93mpLsy12pRN4+QsmN0OTP8dT01RLvk+r0PL37kRQyaB3GwqC3PSHsKblHX0lFKPA4/Hbft4zPtZ4H2rnPtp4NPJsCMZOLtF5KxVmVbCDGF0Yix7dyhMZWEOAQeG7ppEU604M+dQdyiMz+thS4kzlqdcDSv8lM6McUsh/pwsqgpzHVkROW1VptVwagijE5P9rURTsMCRs7u7B6fYVp5PlkNDd03MyLl0Rm45u8RSRFOF85KfLa/KlAkVkQNDGJ24POVqNFf4uTA2w9TcotWmbAinRwyZNAX9TM4tEppM37KVWghWoCno57TDKqLlVZkc7Kg0cWIIYyg8x+TsoqP9Ayamw95JvYL5xQjnRqYzRgggvQ5jLQQrYIUiJ0omOMpMnLhI0KXQ3YDFliSOEwMmzo9E5544OXTUpNmCEFItBCvgxORn3YPh6KpM5c7LcROPE2PZnbg84mpsLSvAa1Hys83SNej80FGTysIcCnzetKaa0EKwAubD7KTkc12hMPWl+eRkOWtVppWoLoyGMDqpRWqG7lY5OHTXxJcVTX7mJCEw75XGDBACEaEpzctWaiFYgarC3KgiO+lBGMyMiCEAj0doDDor55NTl6dcDaelWukOhakqzMWfk5SIeMtJ97KVWghWwApFTgRzVSYnp5aIpznod5SzMhq66/xhIZPmCj9nh6dYdEiqle7QVEYMy5k0VfjpH58lnKbILS0Eq9DkoIqoZ2Sa+SVnrsq0Gk1B54QwLofuZpgQLywpzqU5+dlmUEpxOkPmcJiYjYozaaqDtBCsQlOwwDEVUSY5Kk2cFMJ4OgNy3MRjVfKzzRCanGNybjGjyj/dy4ZqIVgF86Y6M2T/iiiTQkdNnJR8LhOS/cVjVfKzzdCVgfd/fWk0citdGQ60EKyCk3IOdQ9OUe73UZzvzFWZVsJJIYxm6O7WMueH7poEcrOpKsx1RvkvT6bMnB6xL8vD1tL0LVuphWAVtpbl43HI+rldoXBGhM3Fku4HIRG6Q1NsLSvIiNDdWJoqChwRQt2dQaG7sZipVtKBFoJVyMnyUl+ab/sHQSlF12A4oxyVJo0OyYIZTTaXOa1Rk+Zg+pOfbYZMC901aQqmL3JLC8EVcEIs9cjUPOMzCxk1PmrihBBGM3Q3U8s/PLfIwIS9U61kWuiuSVOwgIUlRc/oTMqvpYXgCjhh/VyzxZyJD0JzRTSEMd3rt26E3tHMC901cULOITN0NxPLP52pVhISAhEpFZEnRaTT+FuywjH7ROR5ETkuIkdE5L/E7PtnETkjIoeM175E7Ek2TUE/84sRLqRBkTeLOXSViUNDy5ErNh4eysTQXRMn5HzKpKy78TSmUYgT7RE8BDytlGoBnjY+xzMN/JpSajdwJ/DXIlIcs/+PlVL7jNehBO1JKubDna5Y3s3QHQqTm+2hpsjZqzKtxKXILfv6abozKNlZPMFADoHcLFsLQSaGTpsU5WUTDOSkJWAlUSG4B/iq8f6rwL3xByilOpRSncb7PmAQCCZ43bTQWG5OqrFvRdQ1GKax3O/o5SlXozA3m4pAjq0roq7BcMaF7pqYy1baeWioOzSVcaG7sTQF07NIVqJCUKmU6gcw/lZc6WAROQD4gO6YzZ82how+JyI5Vzj3QRE5KCIHQ6FQgmavj5ICH2UFPps/CJkZMWTSXGHvZSu7MzB0N5bmNIYwbobuUJi60nxyszMrdNckXctWrikEIvKUiBxb4XXPRi4kItXAvwK/oZQyw0A+CuwErgNKgT9Z7Xyl1MNKqTalVFswmL4OhZ1bRDPzSxnrKDNprrD3anGZsjzlajRX+BmcnGNidsFqU1akO8NyDMXTFPQzMbvIUDi1q/WtKQRKqduUUntWeH0PGDAqeLOiH1zpO0SkEHgM+O9KqRdivrtfRZkD/gk4kIx/KpnYeVLN6aEwSmWmo9LEXC1u0IarxY1MzTM6vZDRPbLlyCEb9grM0N3G8sy+/yH1DvtEh4YeBR4w3j8AfC/+ABHxAd8F/kUp9a24faaICFH/wrEE7Uk6TUE/I1PzjNhw/dxMjhgysWLZvvWSyaG7JnaOHOoZmWZuMUJLpQvu/xSPSiQqBJ8BbheRTuB24zMi0iYiXzKOeT9wE/DrK4SJfk1EjgJHgXLgzxK0J+mYinzahsND3YNhRGBbWeZWRHZeNvSSEGRuRVRXkofP67Fl+XcMRKP5Wiqdv070alSlabW+hJbzUUoNA7eusP0g8EHj/b8B/7bK+W9N5PrpIFaR27aVWmzN6+kKhakryVxHGUTXb/Xn2DOEsWNgknyfl9rizAvdNcnyethWnm/LyLlO455oyeAesblaX6qHp/XM4jWoKc4jJ8tjy4qoayCc0Q8B2Hu1uM7BSVoqMjN0N5Zmm5Z/x8AkNUW5BHKzrTYlpZg5n1KJFoI18HqisdQdA/Z6EBaWIpweCmd0t9ikyabrF3cMuKP8m4N+zg1PMbe4ZLUpr6PTJeVvrtY3PZ+6RbK0EKyDHVWB5fFIu3B2aIqFJcWOqszuEUC0RTowYa8QxrHpeUKTc2zPYEelSVOFn4iCc8P2yfm0FFF0hzK/RwyXZtincrU+LQTroKUyupC0nSois4fSUuGOFhHYa9nK5fJ3SYsU7BU5dN6IGNrugvJPR+SQFoJ1sMO42Tpt1Cs4NTCJRzI7dNTEjiGMZg/RDRWRHYXgUsRQ5t//6VgkSwvBOjAf9lMX7fMgdA5MsrWsIKMjhkzqS/PJ9oqtHJadA5P4c7KoKcqsVbFWIs+IjLJT+Zui5IYeWU6Wl61lBctRUqlAC8E6qC3OI9/ntZWf4NTApCvGpwGyvR62ltnLYXxqYJLmisxbFWs17JZzqGNgktriPPw5CUXAO4aWCn9K6x8tBOvA4xFaKu3jMJ5dWOLc8LQrhiVM0hFCtxE6B8KuEWK4FEIasckiTR0DmZ1sMZ4dVQHODk+nLHJLC8E62V5hnxDS06Hoqmlu6BabNFUUcG5kmvlF65etHA7PMTw17yohbgr6mV2I0Ddu/SJNZsSQm4S4pTLAUkSlLGBCC8E62VEVYCg8Z4ucQ52D0Z7JDhdVRM0VfpYiinPD1kcOuSliyMRODvvzRoPATeVvPuupGpXQQrBOWlL8Q2yEjoFJsjxCQwZnXYynORgtfzs4LE0hdlOL1E5C4KaILZOG8gKyPKKFwGpSrcgb4dTFMA3lBfiy3PPzNRoZPu0wPNcxMEkgJ4uqwsyPGDIpLfBRkp9ti5TsZhi3m3wEviwPDeUFKYtcdE9NkiCVhTkU5mZx6qL1QtA5OOmq1hBAQU4WW8vyOXlxwmpTjNQS7okYMolGDll//3cMhF0VMWSyvTKw3BtNNloI1omIRH8Ii1ukM/NLnB+ZdsVEmnh2VgU42W9tRaSUonNgkh1V7hJiiFZEJy9OWr5aXOdg2JX3//bKAOdHplOSc0gLwQbYXhXg1IC1D0LXYHRVMjc5ik1aqws5MzzFzLx1yc+GwtFVydyQ2iOe1upCJmcX6RuftcyGSxFD7iv/7ZV+lIIzQ8kfnktICESkVESeFJFO42/JKsctxSxK82jM9gYRedE4/xFjNTPbsr3Cz/jMAiELl010w2Icq7GzqhClopO5rKLThY5Kk9bqQgBO9Fk3PHdmKMy8S3IMxfOWnRUc/cQd7K4pSvp3J9ojeAh4WinVAjxtfF6JGaXUPuN1d8z2zwKfM84fBT6QoD0pZbsxHGBlRdQxMInP62FbWb5lNlhFa3W0/E/2W1cRnRpwX8SQiTkcdsLC8m83hgZ3GaLkJnKzvSlbeyFRIbgH+Krx/qtE1x1eF8Y6xW8Fvr2Z863gUuSQdX6CjoFJGoMFZHndN6pXV5JPgc/LSQsd9u19E5T7fQQDOZbZYBV+w2F/wkKHfXvfBNlecVXEUDpItDapVEr1Axh/K1Y5LldEDorICyJiVvZlwJhSyvR89AK1CdqTUsr8OZQV+Dhl4YNwon+SnS50VEI01ceOqgDtlrZIJ2itLnRdxJBJa1UhJyx02J/on6C5IuCq0Ol0sGZpishTInJshdc9G7hOvVKqDfhl4K9FpAlY6Ula1QsrIg8aYnIwFApt4NLJpbW60LKKaDg8x8WJ2ZSMETqFndWFnOyfsMRhP78YoXMgzK4a9w1LmOysDnB2eCqlq2Vdifb+CVcOC6WaNYVAKXWbUmrPCq/vAQMiUg1g/B1c5Tv6jL+ngWeB/cAQUCwiZjDwFqDvCnY8rJRqU0q1BYPBDfyLyWV3TSEdF8MsLKU/581xw0m328UVUWt1IROzi/RbELnSHQozvxRxdUXUWm047C0YngtNzhGanFv2FWmSR6L9q0eBB4z3DwDfiz9AREpEJMd4Xw7cCLSraJPuGeC9VzrfbuyqKWR+KWLJfAKzJ+LmFmmrMSxmxcSydi3EyyJoxfDQCX3/p4xEheAzwO0i0gncbnxGRNpE5EvGMa3AQRE5TLTi/4xSqt3Y9yfAH4pIF1GfwZcTtCflmMMyx/vG037t430T1BbnUZxv6yjblHIpciX9FVF7/wS52R4ayt3rqNxSEp3Ra0Xk0HJDyMU9slSR0BxtpdQwcOsK2w8CHzTe/wLYu8r5p4EDidiQbhrKC8jL9nK8b4L3pfnax/vGXd8aCuRmU1eaZ01F1DfBjqpCvB53OoohOsN+Z1XAkvI/0T9BTVGuqxtCqUK73jeI1yO0VgeWhwnSxfT8ImeGpnRriOjEsnSHkCqltKPSoLU6Wv7pXqSmvW/C9Q2hVKGFYBPsrimivX8irQ/Cif5JlHL3+LRJa1WA06EwswvpSzXRNz7L+MyCroiICkF4bpELY+lbpGZ2YYnTQ1PLs5s1yUULwSbYXRN9EM6PTKftmub46O5a94aOmuysLiSiSKvD/viFqE9IC/GlGd7pDKPuGJhkKaJ0jyxFaCHYBJccxul7ENr7xinKy6amyD058FdjOedNGiOH2vsnEMG1k/li2VEVQCS9qSbMa+keQWrQQrAJtlf5yfII7f3pixw63jfB7hr3zmiNpb40n3yfN61+mva+CRrKC8j3uSsH/krk+7LYVlaQViFo75ugwOelvtR9ObbSgRaCTZCT5aW5wp+2HsHiUoSTFyd1t9jA6xF21xRy9EL6hFg7il9Pa3V6U32090+ws7oQj4sjtlKJFoJNsrumKG1C0B2aYn4xwu5aXRGZ7Kkt4njfOItpmOE9PrNA7+iMdhTHsKe2iJ6RGcam51N+rUhEcaJfN4RSiRaCTbKrppDQ5ByDk6lPdWBOXnNzjqF4rtpSxOxCJC1r6J7QE5ku46raYoC09Mp6RqcJzy1q/0AK0UKwSczokXT0Ctr7JsjJ8tBYXpDyazmFvUb01JHesZRfy/yNtRBc4lL5p14IDhvXuGqLbgilCi0Em8QcJkiHw/J43wQ7qwKuXINgNRrK/RT4vBxLQ4v0SO8YVYW5VBTqiC2TovxstpXlczQNQnCkZ4ycLI8r14lOF7pm2SSFudlsLctPeUUUiSiOXRjX8wfiiDqMi9IyNHG4Z4yr63T5x7N3S3F6yr93jF01hWTrhlDK0CWbAFdtKeZwT2qHJk4PhZmcW2RfXXFKr+NE9m6JOuxTmRJ8bHqes8PTXK3L/zKu3lLEhbEZhsKpW8N7cSnCsQsTXL1Fl38q0UKQAPvqiukbn2VgInUO49fOR4Xmmnr9IMRzdV0xc4uRlObGN8entRBfjuknSOXwUFcozMzCku6RpRgtBAmw36iczco6FRzqGSOQm0Wji1Mfr8b+OrP8R1N2jcM9Y4hcqvQ0l9hTW4RH4LUU9oqP9JiOYi3EqUQLQQLsqi4k2yu81pO6iuhQzxhXbynWE2lWYEtJHuX+nJQK8eGeMZqDfgK52Sm7hlMpyMliZ1VhSoX4UO8YgZwsGsp0xFwq0UKQALnZXnbVFHEoRRXRzPwSJy9O6mGJVRARrqkv5tUUVURKKQ73jmn/wBW4Zmsxr50fYylFmXhfPTfKvnrdEEo1CQmBiJSKyJMi0mn8LVnhmLeIyKGY16yI3Gvs+2cROROzb18i9ljB/rpijvSmZobrsb5xliJKC8EV2F9fwtnhaUamkj/D9fzINEPh+eUhQM3lXFNfQnhukc7B5PtpxmcWODUwSdvW0qR/t+b1JNojeAh4WinVAjxtfH4dSqlnlFL7lFL7gLcC08CPYg75Y3O/UupQgvaknX11xcwsLKVkoZRXzkVbuvt0RbQq19Snzk/w8tnod163TVdEq3Ht1mjbz7xXk8lr50dRCtq2Xda+1CSZRIXgHuCrxvuvAveucfx7gR8opdKXyD/FmDfpwbMjSf/ul86M0BQsoNyfk/TvzhT2binC65GUDA+9fGaEorxsmoPaUb8a9aX5lBX4ePVc8odHXzk3itcjukecBhIVgkqlVD+A8bdijePvA74et+3TInJERD4nIqvWeCLyoIgcFJGDoVAoMauTyJaSfGqL83gpyUIQiSgOnh3hQINujV6JfF8We2oKeelM8oX45XMjtG0t0ePTV0BE2F9fwivnkl/+B8+O0lodoCBHp/5ONWsKgYg8JSLHVnjds5ELiUg10UXsn4jZ/FFgJ3AdUAr8yWrnK6UeVkq1KaXagsHgRi6dcg40lPLSmRGUSp7D7NTAJBOzi3pYYh1c31jG4Z7xpC5dORye43RoijZd/mtyoCHqp0nmfJqFpQiHesa0fyBNrCkESqnblFJ7Vnh9DxgwKnizoh+8wle9H/iuUmoh5rv7VZQ54J+AA4n9O9ZwoKGUofA8Z4aSlwnTbOFqIVib6xtKmV+KJHV46OA50z+gx6fX4obGMgBeOD2ctO9s75tgZmFp2QehSS2JDg09CjxgvH8A+N4Vjr2fuGGhGBERov6FYwnaYwnm8E0yhydeOjtCTVEuW0rykvadmUrbtlI8Ai+eTmL5nxnBl+Vhj55Itia7a4oI5GTxQhLL/+fdQ8AlkdGklkSF4DPA7SLSCdxufEZE2kTkS+ZBIrINqAN+Enf+10TkKHAUKAf+LEF7LKGxvIByv48XkyQESileOjPCdQ2lemnKdVCUl82umkJePJO8FunPu4a4blsJudnepH1npuL1CAcaSpPaI3i+e5gdlQGCAR0okQ4SEgKl1LBS6lalVIvxd8TYflAp9cGY484qpWqVUpG489+qlNprDDX9qlIqnIg9ViEiXN9Yxi+6h5LiJzg1MEloco4bm8uTYJ07uL6hjNfOjzG3mLifYHBylpMXJ3X5b4A3NJVxZmiKi+OJ+wnmFpd4+ewIb2jSvYF0oWcWJ4mbWsoZmJjj1EDi8wl+2hHtFr+5RVdE6+WNTWXMLUY4eDZxP8Hz3dGW7Zu0EKybZPoJXj03xuxCRAtxGtFCkCRu2h6NZDIr8UR4rjNEc4Wf6iLtH1gvb2gqw+f18JOOxEOLf9Y5RHF+tl4adAO0VhdSkp/Nc0ko/+e7h/AIXN+oAyXShRaCJFFdlEdLhZ/nOhN7EGYXlnjpzIjuDWyQfF8WBxpKefbUlQLX1kYpxc+7hnhjUxlePX9g3Xg9ws3bgzzbESKSYN6hn3QOcdWWYgp1or+0oYUgiby5JciLZ0aYmd/8OPXBs6PMLUa4qcVecyWcwM3bg3QMhOkbm9n0d3QMhOkbn+VNzbr8N8pbdlYwMjXP4QTWkR6cnOVwzxi37lxrbqommWghSCI37wgyvxjh+dObHx566sQAviyP7hZvgpt3RCvvRIYnnmy/CMBtrboi2ig3tQTxCDxzavPl/8zJaI/u1tbKZJmlWQdaCJLIDY2lBHKy+OGxi5s6XynFE8cvclNLkHyfnla/UVoq/NQU5fLUiYFNf8eP2gfYV1esF6rfBCUFPvbXlyQ0PPdk+yC1xXm0VuuF6tOJFoIkkpPl5a2tFTzZPrCptNRHesfpH5/lrj1VKbAu8xER7tpbzXMdQ0zMLqx9Qhz94zMc6R3njt26NbpZbm2t4EjvOL2jG88rObuwxM+6QtzaWqHnz6QZLQRJ5q491YxOL2xqctkPj18kyyPcqoclNs07rqpmfinCU+0b7xWY59yxSwvxZnnn3hoAvn+kf8PnPnsqxOxChNv0sFDa0UKQZG7eHiQv28sPjm3sQVBK8cNjF3lDUxnF+b4UWZf57K8rprY4j8c2URF971AfzRV+mit02unNUl+Wz766Yh491Lfhc7/7Wi/l/hzeqCeSpR0tBEkmz+fl1tYKHjvSv6FsmK+cG+XM0BTvuqomhdZlPiLC2/dW8VxniPHp9Q8PnQ6FOXhulPdcsyWF1rmDu6+uob1/gq7B9ScKGJue58cnB7lnXw1ZXl0tpRtd4ingvuvqGZ1e4Inj63caf/2lHvw5Wbzz6uoUWuYO7t1fy8KS4tuv9q77nG+/0ovXI7znmtoUWuYO3nlVNR6B72yg/P/zSD8LS4p379flbwVaCFLAG5vK2FqWz9dePL+u48dnFnjsaB9376vR0UJJYHdNEdduLeHfXji3rslNSxHFd169wM3bgzpaKAlUFOZya2slX3/p/Lp6xUopvvlyD9sr/eyuKUyDhZp4tBCkAI9HuO+6el46M0LnOnIPfefVXmYXItx/XX0arHMHv/aGrZwZmuKnXWvP6XjsaD8XJ2b5L9fVpcEyd/CbNzYwOr3A9w5dWPPYX3QPc/TCOL9xY4OOFrIILQQp4v1tW8jL9vI3P+664nGzC0t88dlurttWwp5a3RpKFnfuqaLc7+Ph57qvmBE2ElH87dOdbK/0c7uOVkkaNzSWsrMqwFd+dnbNXtkXn+2mIpDDL+lhOcvQQpAiyvw5fOBNDfzn4T6OXRhf9bh/ff4cg5Nz/NEdO3RrKInkZHn50C3N/LxrmGevMNP4h8cv0jkY5iNvbdFrEycREeG3bm7k1MAk/34FX8Er50b4WdcQH3hTAzlZeu0Hq9BCkEIevLmR4vxs/vzxEyu2igYnZvm7Z7t4c0s51+uVmJLOf71hK9vK8vnzx06sOMFvfGaBP/t+O80Vft6xVzvpk809V9eyv76Yz/zgJOMzl0dwzS0u8dC/H6W6KJdfuWGrBRZqTBISAhF5n4gcF5GIiLRd4bg7ReSUiHSJyEMx2xtE5EUR6RSRR0QkowLoC3Oz+eO37eAX3cN8/unO1+1bXIrwka+/xuxChI+/c5dFFmY2viwPH3vHLjoHw/zpo8dfN0SklOJ//McxBibn+Kv3Xa0zjaYAj0f41D17GJme57995yhLcY2h//1kB52DYf78l/biz9FBElaSaI/gGPBLwHOrHSAiXuALwF3ALuB+ETFrvs8Cn1NKtQCjwAcStMd2/PKBet5zzRY+/3Qn/+fHncwvRhgKz/E7X3uVl86M8Oe/tIeWSp1XJVXcvquSD93SxNdePM+nHztBeG6R6flF/t9vHebRw338/q0t7KsrttrMjGVPbREP3bmTx47288ffPszI1Dwz80t8+rF2/uEnp7n/QB1v2aFn0ltNQjKslDoBrDW2fQDoUkqdNo79BnCPiJwA3gr8snHcV4FPAF9MxCa7ISJ8+t17mF1Y4q9+1MHf/riLxYjCK8LH3t7Ku/frCUyp5o/v2MHo1Dxf+tkZ/u3Fc8wvRlDA79/Wwoff0my1eRnPb93cxPT8Ep9/upPvH+5HoVhYUjzwhq18/F27rTZPQ4JCsE5qgZ6Yz73A9UAZMKaUWozZvmrYgIg8CDwIUF/vrDDL3GwvX/iVa3jvqUF+2jFEbraHe/fXsl33BNKCxyN85j1Xcd+Ber7zai/F+T7e3FLOddt0qu908Qe3b+fte6v51sEevF7hTc3lvKm5XAdI2IQ1hUBEngJWysL1MaXU99ZxjZV+aXWF7SuilHoYeBigra0t8RXiLeAtOyp0N9hC9tUV62EgC9lRFeC/a3+YLVlTCJRStyV4jV4gdqbOFqAPGAKKRSTL6BWY2zUajUaTRtIRPvoy0GJECPmA+4BHVTSE4xngvcZxDwDr6WFoNBqNJokkGj76bhHpBd4APCYiTxjba0TkcQCjtf8R4AngBPBNpdRx4yv+BPhDEeki6jP4ciL2aDQajWbjyJWm39uVtrY2dfDgQavN0Gg0GkchIq8opS6b86VnFms0Go3L0UKg0Wg0LkcLgUaj0bgcLQQajUbjchzpLBaREHBuk6eXE53DYDfsahfY1zZt18bQdm0cu9q2Wbu2KqWC8RsdKQSJICIHV/KaW41d7QL72qbt2hjaro1jV9uSbZceGtJoNBqXo4VAo9FoXI4bheBhqw1YBbvaBfa1Tdu1MbRdG8eutiXVLtf5CDQajUbzetzYI9BoNBpNDFoINBqNxuVkpBCIyPtE5LiITfkkegAABZJJREFURESkLW7fR0WkS0ROicjbVjm/QUReFJFOEXnESJ+dbBsfEZFDxuusiBxa5bizInLUOC4tmfZE5BMiciHGvrevctydRjl2ichDabDrL0XkpIgcEZHvisiKq8ykq8zW+v9FJMf4nbuM+2lbqmyJuWadiDwjIieMZ+D3VjjmFhEZj/l9P55qu4zrXvF3kSh/Y5TXERG5Jk127Ygpi0MiMiEivx93TFrKTES+IiKDInIsZlupiDxp1EdPikjJKuc+YBzTKSIPbOjCSqmMewGtwA7gWaAtZvsu4DCQAzQA3YB3hfO/CdxnvP974EMptvd/AR9fZd9ZoDzN5fcJ4I/WOMZrlF8j4DPKdVeK7boDyDLefxb4rFVltp7/H/gd4O+N9/cBj6Tht6sGrjHeB4COFey6Bfh+Ou+p9fwuwNuBHxBdvfAG4EULbPQCF4lOvEp7mQE3AdcAx2K2/QXwkPH+oZXue6AUOG38LTHel6z3uhnZI1BKnVBKnVph1z3AN5RSc0qpM0AXcCD2AIkuovpW4NvGpq8C96bKVuN67we+nqprpIgDQJdS6rRSah74BtHyTRlKqR+pS2tcv0B0VTurWM//fw/R+wei99OtkuJFepVS/UqpV433k0TXAFl1LXCbcQ/wLyrKC0RXMKxOsw23At1Kqc1mLkgIpdRzwEjc5tj7aLX66G3Ak0qpEaXUKPAkcOd6r5uRQnAFaoGemM+9XP6QlAFjMRXOSsckkzcDA0qpzlX2K+BHIvKKiDyYQjvi+YjRPf/KKl3R9ZRlKvlNoq3HlUhHma3n/18+xrifxoneX2nBGIraD7y4wu43iMhhEfmBiOxOk0lr/S5W31MQ7bmt1iizoswAKpVS/RAVemClhc8TKrs11yy2KyLyFFC1wq6PKaVWW/JypdZYfPzseo5ZF+u08X6u3Bu4USnVJyIVwJMictJoNSTElWwDvgh8iuj//SmiQ1e/Gf8VK5ybcCzyespMRD4GLAJfW+VrUlJm8aausC1l99JGERE/8O/A7yulJuJ2v0p06CNs+H/+A2hJg1lr/S6WlReA4Qu8G/joCrutKrP1klDZOVYIlFK3beK0XqAu5vMWoC/umCGiXdIsoxW30jFJsVFEsoBfAq69wnf0GX8HReS7RIckEq7U1lt+IvKPwPdX2LWesky6XYYT7J3ArcoYHF3hO1JSZnGs5/83j+k1fusiLu/2Jx0RySYqAl9TSn0nfn+sMCilHheRvxORcqVUSpOrreN3Sck9tQHuAl5VSg3E77CqzAwGRKRaKdVvDJUNrnBML1E/hskWoj7SdeG2oaFHgfuMaI4Goor+UuwBRuXyDPBeY9MDwGo9jES5DTiplOpdaaeIFIhIwHxP1Fl6bKVjk0ncuOy7V7nmy0CLRCOsfES71I+m2K47ia5zfbdSanqVY9JVZuv5/x8lev9A9H768WrilSwMH8SXgRNKqf+9yjFVpq9CRA4QrQeGU2zXen6XR4FfM6KHbgDGzSGRNLFq79yKMosh9j5arT56ArhDREqModw7jG3rI9VecCteRCuvXmAOGACeiNn3MaLRHqeAu2K2Pw7UGO8biQpEF/AtICdFdv4z8Ntx22qAx2PsOGy8jhMdHklH+f0rcBQ4YtyE1fG2GZ/fTjQqpTsdthm/Rw9wyHj9fbxd6Syzlf5/4JNEhQog17h/uoz7qTENZfQmokMCR2LK6e3Ab5v3GvARo2wOE3W6vzENdq34u8TZJcAXjPI8SkzEXxrsyydasRfFbEt7mREVon5gwajDPkDUr/Q00Gn8LTWObQO+FHPubxr3WhfwGxu5rk4xodFoNC7HbUNDGo1Go4lDC4FGo9G4HC0EGo1G43K0EGg0Go3L0UKg0Wg0LkcLgUaj0bgcLQQajUbjcv5/JgMAFygf3p8AAAAASUVORK5CYII=\n",
          "text/plain": "<Figure size 432x288 with 1 Axes>"
         },
         "metadata": {
          "needs_background": "light"
         },
         "output_type": "display_data"
        }
       ]
      }
     },
     "bcfc2d7a5434473e855d1a061e909ea8": {
      "model_module": "@jupyter-widgets/base",
      "model_module_version": "1.2.0",
      "model_name": "LayoutModel",
      "state": {}
     },
     "c08762ec1dfb42b1a65ca7615e6f08bf": {
      "model_module": "@jupyter-widgets/controls",
      "model_module_version": "1.5.0",
      "model_name": "VBoxModel",
      "state": {
       "_dom_classes": [
        "widget-interact"
       ],
       "children": [
        "IPY_MODEL_d36d42eb1cdd402db5b3ea511e930e52",
        "IPY_MODEL_38aaaf99b37144b489815740a6f64697"
       ],
       "layout": "IPY_MODEL_adf67661e8cd46a587419432f1c48ca9"
      }
     },
     "c6fbb1522eea46069872bae48cb2d1f0": {
      "model_module": "@jupyter-widgets/controls",
      "model_module_version": "1.5.0",
      "model_name": "SliderStyleModel",
      "state": {
       "description_width": ""
      }
     },
     "c90636ed326d401681415ff10313e54a": {
      "model_module": "@jupyter-widgets/base",
      "model_module_version": "1.2.0",
      "model_name": "LayoutModel",
      "state": {}
     },
     "c9638f3cf8754dd48bdbb0fe5e6ff9e6": {
      "model_module": "@jupyter-widgets/controls",
      "model_module_version": "1.5.0",
      "model_name": "IntSliderModel",
      "state": {
       "description": "c",
       "layout": "IPY_MODEL_6e7cd9f3bc12484da14fc33fa048fe83",
       "max": 5,
       "min": -5,
       "style": "IPY_MODEL_c6fbb1522eea46069872bae48cb2d1f0"
      }
     },
     "d1cddb387a374a1ebb567ad532710822": {
      "model_module": "@jupyter-widgets/output",
      "model_module_version": "1.0.0",
      "model_name": "OutputModel",
      "state": {
       "layout": "IPY_MODEL_32f54dec52974d1db59e0db415dde8da",
       "outputs": [
        {
         "data": {
          "image/png": "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\n",
          "text/plain": "<Figure size 432x288 with 1 Axes>"
         },
         "metadata": {
          "needs_background": "light"
         },
         "output_type": "display_data"
        }
       ]
      }
     },
     "d36d42eb1cdd402db5b3ea511e930e52": {
      "model_module": "@jupyter-widgets/controls",
      "model_module_version": "1.5.0",
      "model_name": "IntSliderModel",
      "state": {
       "description": "a",
       "layout": "IPY_MODEL_617b16e28be642b580f3e3080dd0fb2f",
       "max": 3,
       "min": -1,
       "style": "IPY_MODEL_38fba85a13c147749d7aec112236fe7e",
       "value": 1
      }
     },
     "d6824f4c2f804b0fb2831997a7d1aec3": {
      "model_module": "@jupyter-widgets/controls",
      "model_module_version": "1.5.0",
      "model_name": "VBoxModel",
      "state": {
       "_dom_classes": [
        "widget-interact"
       ],
       "children": [
        "IPY_MODEL_5be92827414c4869ba4f2fb70eb88ef0",
        "IPY_MODEL_a1375062ae7d4c2fadc4a14e4273bc02"
       ],
       "layout": "IPY_MODEL_87d97442b2df486fa4212e6d8cad9331"
      }
     },
     "d771b1be48be433c83a953555f300b27": {
      "model_module": "@jupyter-widgets/base",
      "model_module_version": "1.2.0",
      "model_name": "LayoutModel",
      "state": {}
     },
     "dad05a394e244696adf88643ec7995d7": {
      "model_module": "@jupyter-widgets/base",
      "model_module_version": "1.2.0",
      "model_name": "LayoutModel",
      "state": {}
     },
     "dbc8ab8b2cef4dbeb3acac7171c81e27": {
      "model_module": "@jupyter-widgets/controls",
      "model_module_version": "1.5.0",
      "model_name": "IntSliderModel",
      "state": {
       "description": "a",
       "layout": "IPY_MODEL_281c95a459c84195a9abdc465a423d0c",
       "style": "IPY_MODEL_2eaae5ca246d43f5874286ca3604a87d",
       "value": 1
      }
     },
     "dd8ac56da19541999abe1683524f9cf4": {
      "model_module": "@jupyter-widgets/controls",
      "model_module_version": "1.5.0",
      "model_name": "VBoxModel",
      "state": {
       "_dom_classes": [
        "widget-interact"
       ],
       "children": [
        "IPY_MODEL_dbc8ab8b2cef4dbeb3acac7171c81e27",
        "IPY_MODEL_b7d94543fe2e481481846292fecd71e1"
       ],
       "layout": "IPY_MODEL_5fa3a795255248b8b0c0e3a79e31acf9"
      }
     },
     "de8fdd1dbb8046728790d2b249b87969": {
      "model_module": "@jupyter-widgets/base",
      "model_module_version": "1.2.0",
      "model_name": "LayoutModel",
      "state": {}
     },
     "e7f1b0fe7bfe489da62637b33b78dea0": {
      "model_module": "@jupyter-widgets/controls",
      "model_module_version": "1.5.0",
      "model_name": "VBoxModel",
      "state": {
       "_dom_classes": [
        "widget-interact"
       ],
       "children": [
        "IPY_MODEL_8145917652ca4a55bf601e8f8833b865",
        "IPY_MODEL_d1cddb387a374a1ebb567ad532710822"
       ],
       "layout": "IPY_MODEL_7369cf366e5b4b73b642581ba23c2205"
      }
     },
     "e9d454a6abb64fafb1032d4ac1af8c1c": {
      "model_module": "@jupyter-widgets/controls",
      "model_module_version": "1.5.0",
      "model_name": "SliderStyleModel",
      "state": {
       "description_width": ""
      }
     },
     "f5cdbaa697a041cd8b634579a9072f7d": {
      "model_module": "@jupyter-widgets/base",
      "model_module_version": "1.2.0",
      "model_name": "LayoutModel",
      "state": {}
     }
    },
    "version_major": 2,
    "version_minor": 0
   }
  }
 },
 "nbformat": 4,
 "nbformat_minor": 2
}
